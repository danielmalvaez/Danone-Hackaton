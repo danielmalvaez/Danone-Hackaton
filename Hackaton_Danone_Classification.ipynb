{
  "cells": [
    {
      "attachments": {},
      "cell_type": "markdown",
      "metadata": {
        "id": "61jDSvXdVlZ7"
      },
      "source": [
        "# Danone Hackaton Challenge\n",
        "**Autor:** Axel Daniel Malváez Flores  \n",
        "**LinkedIn:** https://www.linkedin.com/in/daniel-malvaez-821637233/    \n",
        "**Date:** June 17th, 2023 - June19th, 2023\n",
        "\n",
        "This notebook will adress the data science challenge for Danone Hackaton. I decided to use a FNN (feedfordward neural network) and XGBoost (Xtrem Gradient Boosted Tree) to compare its performance."
      ]
    },
    {
      "cell_type": "code",
      "execution_count": 1,
      "metadata": {
        "id": "o9OocYlnVlON"
      },
      "outputs": [],
      "source": [
        "# Necessary libraries for the first part of my project\n",
        "import pandas as pd\n",
        "import numpy as np\n",
        "import matplotlib.pyplot as plt\n",
        "import seaborn as sns\n",
        "\n",
        "plt.style.use('fivethirtyeight')"
      ]
    },
    {
      "cell_type": "code",
      "execution_count": 2,
      "metadata": {
        "id": "FBwA-q6hUWGf"
      },
      "outputs": [],
      "source": [
        "data_train = pd.read_json('train_products.json')\n",
        "data_test = pd.read_json('test_products.json')\n",
        "\n",
        "data_train = data_train.T\n",
        "data_test = data_test.T"
      ]
    },
    {
      "cell_type": "code",
      "execution_count": 3,
      "metadata": {
        "colab": {
          "base_uri": "https://localhost:8080/",
          "height": 508
        },
        "id": "g9ci9679M-wc",
        "outputId": "b197ef23-4ee1-4263-966c-2a937126f587"
      },
      "outputs": [
        {
          "data": {
            "text/html": [
              "\n",
              "  <div id=\"df-1e1aca97-7757-408a-801f-197b42de5f49\">\n",
              "    <div class=\"colab-df-container\">\n",
              "      <div>\n",
              "<style scoped>\n",
              "    .dataframe tbody tr th:only-of-type {\n",
              "        vertical-align: middle;\n",
              "    }\n",
              "\n",
              "    .dataframe tbody tr th {\n",
              "        vertical-align: top;\n",
              "    }\n",
              "\n",
              "    .dataframe thead th {\n",
              "        text-align: right;\n",
              "    }\n",
              "</style>\n",
              "<table border=\"1\" class=\"dataframe\">\n",
              "  <thead>\n",
              "    <tr style=\"text-align: right;\">\n",
              "      <th></th>\n",
              "      <th>name</th>\n",
              "      <th>brand</th>\n",
              "      <th>generic_name</th>\n",
              "      <th>categories_hierarchy</th>\n",
              "      <th>is_beverage</th>\n",
              "      <th>selling_countries</th>\n",
              "      <th>ingredient_origins</th>\n",
              "      <th>ingredients</th>\n",
              "      <th>additives_count</th>\n",
              "      <th>calcium_100g</th>\n",
              "      <th>...</th>\n",
              "      <th>nutrition_grade</th>\n",
              "      <th>packaging_materials</th>\n",
              "      <th>non_recyclable_and_non_biodegradable_materials_count</th>\n",
              "      <th>est_co2_agriculture</th>\n",
              "      <th>est_co2_consumption</th>\n",
              "      <th>est_co2_distribution</th>\n",
              "      <th>est_co2_packaging</th>\n",
              "      <th>est_co2_processing</th>\n",
              "      <th>est_co2_transportation</th>\n",
              "      <th>ecoscore_grade</th>\n",
              "    </tr>\n",
              "  </thead>\n",
              "  <tbody>\n",
              "    <tr>\n",
              "      <th>0</th>\n",
              "      <td>Pommes duchesse</td>\n",
              "      <td>Pom lisse,Pom'Lisse, Marque Repère</td>\n",
              "      <td>unknown</td>\n",
              "      <td>[en:frozen-foods, en:frozen-fried-potatoes, en...</td>\n",
              "      <td>0</td>\n",
              "      <td>[en:france]</td>\n",
              "      <td>{'en:unknown': 100}</td>\n",
              "      <td>[{'id': 'en:potato', 'percent': 82, 'percent_e...</td>\n",
              "      <td>1</td>\n",
              "      <td>unknown</td>\n",
              "      <td>...</td>\n",
              "      <td>b</td>\n",
              "      <td>[en:plastic]</td>\n",
              "      <td>1</td>\n",
              "      <td>1.405794</td>\n",
              "      <td>0.122097</td>\n",
              "      <td>0.151978</td>\n",
              "      <td>0.400866</td>\n",
              "      <td>0.1234</td>\n",
              "      <td>0.344651</td>\n",
              "      <td>2</td>\n",
              "    </tr>\n",
              "    <tr>\n",
              "      <th>1</th>\n",
              "      <td>Bûche pâtissière à la crème au beurre</td>\n",
              "      <td>Esprit de Fête,Carrefour</td>\n",
              "      <td>unknown</td>\n",
              "      <td>[en:snacks, en:desserts, en:sweet-snacks, en:f...</td>\n",
              "      <td>0</td>\n",
              "      <td>[en:france]</td>\n",
              "      <td>{'en:unknown': 100}</td>\n",
              "      <td>[{'id': 'en:glucose-syrup', 'percent_estimate'...</td>\n",
              "      <td>10</td>\n",
              "      <td>unknown</td>\n",
              "      <td>...</td>\n",
              "      <td>e</td>\n",
              "      <td>[en:cardboard, en:plastic]</td>\n",
              "      <td>1</td>\n",
              "      <td>1.772009</td>\n",
              "      <td>0</td>\n",
              "      <td>0.019531</td>\n",
              "      <td>0.288156</td>\n",
              "      <td>5.215055</td>\n",
              "      <td>0.171567</td>\n",
              "      <td>3</td>\n",
              "    </tr>\n",
              "    <tr>\n",
              "      <th>2</th>\n",
              "      <td>Cini Minis</td>\n",
              "      <td>Nestlé, Nestlé</td>\n",
              "      <td></td>\n",
              "      <td>[en:plant-based-foods-and-beverages, en:plant-...</td>\n",
              "      <td>0</td>\n",
              "      <td>[en:austria, en:france, en:germany, en:spain, ...</td>\n",
              "      <td>{'en:unknown': 100}</td>\n",
              "      <td>[{'id': 'en:whole-wheat-flour', 'percent': 37,...</td>\n",
              "      <td>3</td>\n",
              "      <td>0.635</td>\n",
              "      <td>...</td>\n",
              "      <td>d</td>\n",
              "      <td>[en:paperboard, en:plastic]</td>\n",
              "      <td>1</td>\n",
              "      <td>2.2396</td>\n",
              "      <td>0</td>\n",
              "      <td>0.019531</td>\n",
              "      <td>0.281596</td>\n",
              "      <td>0.770511</td>\n",
              "      <td>0.252874</td>\n",
              "      <td>3</td>\n",
              "    </tr>\n",
              "    <tr>\n",
              "      <th>3</th>\n",
              "      <td>Cuor di fette Carrefour</td>\n",
              "      <td>Carrefour</td>\n",
              "      <td>unknown</td>\n",
              "      <td>[en:dairies, en:fermented-foods, en:fermented-...</td>\n",
              "      <td>0</td>\n",
              "      <td>[en:italy]</td>\n",
              "      <td>{'en:unknown': 100}</td>\n",
              "      <td>[{'has_sub_ingredients': 'yes', 'id': 'en:chee...</td>\n",
              "      <td>2</td>\n",
              "      <td>unknown</td>\n",
              "      <td>...</td>\n",
              "      <td>e</td>\n",
              "      <td>[en:plastic]</td>\n",
              "      <td>1</td>\n",
              "      <td>4.536405</td>\n",
              "      <td>0.006688</td>\n",
              "      <td>0.037393</td>\n",
              "      <td>0.185784</td>\n",
              "      <td>0.458632</td>\n",
              "      <td>0.217118</td>\n",
              "      <td>3</td>\n",
              "    </tr>\n",
              "    <tr>\n",
              "      <th>4</th>\n",
              "      <td>Curry</td>\n",
              "      <td>Carrefour,Groupe Carrefour</td>\n",
              "      <td>unknown</td>\n",
              "      <td>[en:plant-based-foods-and-beverages, en:plant-...</td>\n",
              "      <td>0</td>\n",
              "      <td>[en:france]</td>\n",
              "      <td>{'en:unknown': 100}</td>\n",
              "      <td>[{'id': 'en:turmeric', 'percent_estimate': 55....</td>\n",
              "      <td>0</td>\n",
              "      <td>unknown</td>\n",
              "      <td>...</td>\n",
              "      <td>unknown</td>\n",
              "      <td>[en:glass, en:plastic, en:unknown]</td>\n",
              "      <td>0</td>\n",
              "      <td>7.918371</td>\n",
              "      <td>0</td>\n",
              "      <td>0.015709</td>\n",
              "      <td>0.47839</td>\n",
              "      <td>0.445327</td>\n",
              "      <td>0.334988</td>\n",
              "      <td>4</td>\n",
              "    </tr>\n",
              "  </tbody>\n",
              "</table>\n",
              "<p>5 rows × 28 columns</p>\n",
              "</div>\n",
              "      <button class=\"colab-df-convert\" onclick=\"convertToInteractive('df-1e1aca97-7757-408a-801f-197b42de5f49')\"\n",
              "              title=\"Convert this dataframe to an interactive table.\"\n",
              "              style=\"display:none;\">\n",
              "        \n",
              "  <svg xmlns=\"http://www.w3.org/2000/svg\" height=\"24px\"viewBox=\"0 0 24 24\"\n",
              "       width=\"24px\">\n",
              "    <path d=\"M0 0h24v24H0V0z\" fill=\"none\"/>\n",
              "    <path d=\"M18.56 5.44l.94 2.06.94-2.06 2.06-.94-2.06-.94-.94-2.06-.94 2.06-2.06.94zm-11 1L8.5 8.5l.94-2.06 2.06-.94-2.06-.94L8.5 2.5l-.94 2.06-2.06.94zm10 10l.94 2.06.94-2.06 2.06-.94-2.06-.94-.94-2.06-.94 2.06-2.06.94z\"/><path d=\"M17.41 7.96l-1.37-1.37c-.4-.4-.92-.59-1.43-.59-.52 0-1.04.2-1.43.59L10.3 9.45l-7.72 7.72c-.78.78-.78 2.05 0 2.83L4 21.41c.39.39.9.59 1.41.59.51 0 1.02-.2 1.41-.59l7.78-7.78 2.81-2.81c.8-.78.8-2.07 0-2.86zM5.41 20L4 18.59l7.72-7.72 1.47 1.35L5.41 20z\"/>\n",
              "  </svg>\n",
              "      </button>\n",
              "      \n",
              "  <style>\n",
              "    .colab-df-container {\n",
              "      display:flex;\n",
              "      flex-wrap:wrap;\n",
              "      gap: 12px;\n",
              "    }\n",
              "\n",
              "    .colab-df-convert {\n",
              "      background-color: #E8F0FE;\n",
              "      border: none;\n",
              "      border-radius: 50%;\n",
              "      cursor: pointer;\n",
              "      display: none;\n",
              "      fill: #1967D2;\n",
              "      height: 32px;\n",
              "      padding: 0 0 0 0;\n",
              "      width: 32px;\n",
              "    }\n",
              "\n",
              "    .colab-df-convert:hover {\n",
              "      background-color: #E2EBFA;\n",
              "      box-shadow: 0px 1px 2px rgba(60, 64, 67, 0.3), 0px 1px 3px 1px rgba(60, 64, 67, 0.15);\n",
              "      fill: #174EA6;\n",
              "    }\n",
              "\n",
              "    [theme=dark] .colab-df-convert {\n",
              "      background-color: #3B4455;\n",
              "      fill: #D2E3FC;\n",
              "    }\n",
              "\n",
              "    [theme=dark] .colab-df-convert:hover {\n",
              "      background-color: #434B5C;\n",
              "      box-shadow: 0px 1px 3px 1px rgba(0, 0, 0, 0.15);\n",
              "      filter: drop-shadow(0px 1px 2px rgba(0, 0, 0, 0.3));\n",
              "      fill: #FFFFFF;\n",
              "    }\n",
              "  </style>\n",
              "\n",
              "      <script>\n",
              "        const buttonEl =\n",
              "          document.querySelector('#df-1e1aca97-7757-408a-801f-197b42de5f49 button.colab-df-convert');\n",
              "        buttonEl.style.display =\n",
              "          google.colab.kernel.accessAllowed ? 'block' : 'none';\n",
              "\n",
              "        async function convertToInteractive(key) {\n",
              "          const element = document.querySelector('#df-1e1aca97-7757-408a-801f-197b42de5f49');\n",
              "          const dataTable =\n",
              "            await google.colab.kernel.invokeFunction('convertToInteractive',\n",
              "                                                     [key], {});\n",
              "          if (!dataTable) return;\n",
              "\n",
              "          const docLinkHtml = 'Like what you see? Visit the ' +\n",
              "            '<a target=\"_blank\" href=https://colab.research.google.com/notebooks/data_table.ipynb>data table notebook</a>'\n",
              "            + ' to learn more about interactive tables.';\n",
              "          element.innerHTML = '';\n",
              "          dataTable['output_type'] = 'display_data';\n",
              "          await google.colab.output.renderOutput(dataTable, element);\n",
              "          const docLink = document.createElement('div');\n",
              "          docLink.innerHTML = docLinkHtml;\n",
              "          element.appendChild(docLink);\n",
              "        }\n",
              "      </script>\n",
              "    </div>\n",
              "  </div>\n",
              "  "
            ],
            "text/plain": [
              "                                    name                               brand  \\\n",
              "0                        Pommes duchesse  Pom lisse,Pom'Lisse, Marque Repère   \n",
              "1  Bûche pâtissière à la crème au beurre            Esprit de Fête,Carrefour   \n",
              "2                             Cini Minis                      Nestlé, Nestlé   \n",
              "3                Cuor di fette Carrefour                           Carrefour   \n",
              "4                                  Curry          Carrefour,Groupe Carrefour   \n",
              "\n",
              "  generic_name                               categories_hierarchy is_beverage  \\\n",
              "0      unknown  [en:frozen-foods, en:frozen-fried-potatoes, en...           0   \n",
              "1      unknown  [en:snacks, en:desserts, en:sweet-snacks, en:f...           0   \n",
              "2               [en:plant-based-foods-and-beverages, en:plant-...           0   \n",
              "3      unknown  [en:dairies, en:fermented-foods, en:fermented-...           0   \n",
              "4      unknown  [en:plant-based-foods-and-beverages, en:plant-...           0   \n",
              "\n",
              "                                   selling_countries   ingredient_origins  \\\n",
              "0                                        [en:france]  {'en:unknown': 100}   \n",
              "1                                        [en:france]  {'en:unknown': 100}   \n",
              "2  [en:austria, en:france, en:germany, en:spain, ...  {'en:unknown': 100}   \n",
              "3                                         [en:italy]  {'en:unknown': 100}   \n",
              "4                                        [en:france]  {'en:unknown': 100}   \n",
              "\n",
              "                                         ingredients additives_count  \\\n",
              "0  [{'id': 'en:potato', 'percent': 82, 'percent_e...               1   \n",
              "1  [{'id': 'en:glucose-syrup', 'percent_estimate'...              10   \n",
              "2  [{'id': 'en:whole-wheat-flour', 'percent': 37,...               3   \n",
              "3  [{'has_sub_ingredients': 'yes', 'id': 'en:chee...               2   \n",
              "4  [{'id': 'en:turmeric', 'percent_estimate': 55....               0   \n",
              "\n",
              "  calcium_100g  ... nutrition_grade                 packaging_materials  \\\n",
              "0      unknown  ...               b                        [en:plastic]   \n",
              "1      unknown  ...               e          [en:cardboard, en:plastic]   \n",
              "2        0.635  ...               d         [en:paperboard, en:plastic]   \n",
              "3      unknown  ...               e                        [en:plastic]   \n",
              "4      unknown  ...         unknown  [en:glass, en:plastic, en:unknown]   \n",
              "\n",
              "  non_recyclable_and_non_biodegradable_materials_count est_co2_agriculture  \\\n",
              "0                                                  1              1.405794   \n",
              "1                                                  1              1.772009   \n",
              "2                                                  1                2.2396   \n",
              "3                                                  1              4.536405   \n",
              "4                                                  0              7.918371   \n",
              "\n",
              "  est_co2_consumption est_co2_distribution est_co2_packaging  \\\n",
              "0            0.122097             0.151978          0.400866   \n",
              "1                   0             0.019531          0.288156   \n",
              "2                   0             0.019531          0.281596   \n",
              "3            0.006688             0.037393          0.185784   \n",
              "4                   0             0.015709           0.47839   \n",
              "\n",
              "  est_co2_processing est_co2_transportation ecoscore_grade  \n",
              "0             0.1234               0.344651              2  \n",
              "1           5.215055               0.171567              3  \n",
              "2           0.770511               0.252874              3  \n",
              "3           0.458632               0.217118              3  \n",
              "4           0.445327               0.334988              4  \n",
              "\n",
              "[5 rows x 28 columns]"
            ]
          },
          "execution_count": 3,
          "metadata": {},
          "output_type": "execute_result"
        }
      ],
      "source": [
        "data_train.head()"
      ]
    },
    {
      "cell_type": "code",
      "execution_count": 4,
      "metadata": {
        "colab": {
          "base_uri": "https://localhost:8080/",
          "height": 595
        },
        "id": "hSdrwT7UM-wd",
        "outputId": "23f35227-416e-4937-a065-f1a1bb609e63"
      },
      "outputs": [
        {
          "data": {
            "text/html": [
              "\n",
              "  <div id=\"df-cbc4b02e-619d-43dc-8bda-9f7e841b8922\">\n",
              "    <div class=\"colab-df-container\">\n",
              "      <div>\n",
              "<style scoped>\n",
              "    .dataframe tbody tr th:only-of-type {\n",
              "        vertical-align: middle;\n",
              "    }\n",
              "\n",
              "    .dataframe tbody tr th {\n",
              "        vertical-align: top;\n",
              "    }\n",
              "\n",
              "    .dataframe thead th {\n",
              "        text-align: right;\n",
              "    }\n",
              "</style>\n",
              "<table border=\"1\" class=\"dataframe\">\n",
              "  <thead>\n",
              "    <tr style=\"text-align: right;\">\n",
              "      <th></th>\n",
              "      <th>name</th>\n",
              "      <th>brand</th>\n",
              "      <th>generic_name</th>\n",
              "      <th>categories_hierarchy</th>\n",
              "      <th>is_beverage</th>\n",
              "      <th>selling_countries</th>\n",
              "      <th>ingredient_origins</th>\n",
              "      <th>ingredients</th>\n",
              "      <th>additives_count</th>\n",
              "      <th>calcium_100g</th>\n",
              "      <th>...</th>\n",
              "      <th>sugars_100g</th>\n",
              "      <th>nutrition_grade</th>\n",
              "      <th>packaging_materials</th>\n",
              "      <th>non_recyclable_and_non_biodegradable_materials_count</th>\n",
              "      <th>est_co2_agriculture</th>\n",
              "      <th>est_co2_consumption</th>\n",
              "      <th>est_co2_distribution</th>\n",
              "      <th>est_co2_packaging</th>\n",
              "      <th>est_co2_processing</th>\n",
              "      <th>est_co2_transportation</th>\n",
              "    </tr>\n",
              "  </thead>\n",
              "  <tbody>\n",
              "    <tr>\n",
              "      <th>0</th>\n",
              "      <td>Activia saveur coco x 4</td>\n",
              "      <td>Danone,Activia</td>\n",
              "      <td>unknown</td>\n",
              "      <td>[en:dairies, en:fermented-foods, en:desserts, ...</td>\n",
              "      <td>0</td>\n",
              "      <td>[en:belgium, en:france]</td>\n",
              "      <td>{'en:european-union': 50, 'en:france': 50}</td>\n",
              "      <td>[{'id': 'en:whole-milk', 'percent_estimate': '...</td>\n",
              "      <td>0</td>\n",
              "      <td>unknown</td>\n",
              "      <td>...</td>\n",
              "      <td>13.1</td>\n",
              "      <td>b</td>\n",
              "      <td>[en:plastic]</td>\n",
              "      <td>1</td>\n",
              "      <td>0.86833498</td>\n",
              "      <td>0.0066875618</td>\n",
              "      <td>0.03557378</td>\n",
              "      <td>0.17703201</td>\n",
              "      <td>0.16833754</td>\n",
              "      <td>0.2016675</td>\n",
              "    </tr>\n",
              "    <tr>\n",
              "      <th>1</th>\n",
              "      <td>Danup peche melba</td>\n",
              "      <td>Danone</td>\n",
              "      <td>unknown</td>\n",
              "      <td>[en:plant-based-foods-and-beverages, en:bevera...</td>\n",
              "      <td>1</td>\n",
              "      <td>[en:tunisia]</td>\n",
              "      <td>{'en:unknown': 100}</td>\n",
              "      <td>unknown</td>\n",
              "      <td>unknown</td>\n",
              "      <td>unknown</td>\n",
              "      <td>...</td>\n",
              "      <td>unknown</td>\n",
              "      <td>unknown</td>\n",
              "      <td>[en:unknown]</td>\n",
              "      <td>1</td>\n",
              "      <td>0.091306974</td>\n",
              "      <td>0.0066875618</td>\n",
              "      <td>0.035436375</td>\n",
              "      <td>0.17779866</td>\n",
              "      <td>0.059533076</td>\n",
              "      <td>0.19037357</td>\n",
              "    </tr>\n",
              "    <tr>\n",
              "      <th>2</th>\n",
              "      <td>Off-the-charts cherry pie flavor not-so-tradit...</td>\n",
              "      <td>Oikos,Danone</td>\n",
              "      <td></td>\n",
              "      <td>[en:dairies, en:fermented-foods, en:desserts, ...</td>\n",
              "      <td>0</td>\n",
              "      <td>[en:france, en:united-states]</td>\n",
              "      <td>{'en:unknown': 100}</td>\n",
              "      <td>[{'has_sub_ingredients': 'yes', 'id': 'en:yogu...</td>\n",
              "      <td>1</td>\n",
              "      <td>0.067</td>\n",
              "      <td>...</td>\n",
              "      <td>10.67</td>\n",
              "      <td>b</td>\n",
              "      <td>[en:plastic]</td>\n",
              "      <td>1</td>\n",
              "      <td>1.5302736</td>\n",
              "      <td>0.0066875618</td>\n",
              "      <td>0.03557378</td>\n",
              "      <td>0.18055336</td>\n",
              "      <td>0.14868799</td>\n",
              "      <td>0.23648173</td>\n",
              "    </tr>\n",
              "    <tr>\n",
              "      <th>3</th>\n",
              "      <td>Yaourt brassé nature</td>\n",
              "      <td>Danone</td>\n",
              "      <td></td>\n",
              "      <td>[en:dairies, en:fermented-foods, en:desserts, ...</td>\n",
              "      <td>0</td>\n",
              "      <td>[en:france]</td>\n",
              "      <td>{'en:france': 100}</td>\n",
              "      <td>[{'id': 'en:whole-milk', 'origins': 'en:france...</td>\n",
              "      <td>0</td>\n",
              "      <td>0.149</td>\n",
              "      <td>...</td>\n",
              "      <td>5.7</td>\n",
              "      <td>b</td>\n",
              "      <td>[en:plastic]</td>\n",
              "      <td>1</td>\n",
              "      <td>1.5453452</td>\n",
              "      <td>0.0066875618</td>\n",
              "      <td>0.03557378</td>\n",
              "      <td>0.18055336</td>\n",
              "      <td>0.15006915</td>\n",
              "      <td>0.20177885</td>\n",
              "    </tr>\n",
              "    <tr>\n",
              "      <th>4</th>\n",
              "      <td>Activia yaourt à boire myrtille</td>\n",
              "      <td>Danone,Activia</td>\n",
              "      <td>unknown</td>\n",
              "      <td>[en:beverages, en:dairies, en:fermented-foods,...</td>\n",
              "      <td>1</td>\n",
              "      <td>[en:poland]</td>\n",
              "      <td>{'en:unknown': 100}</td>\n",
              "      <td>[{'id': 'en:skimmed-milk', 'percent_estimate':...</td>\n",
              "      <td>0</td>\n",
              "      <td>0.105</td>\n",
              "      <td>...</td>\n",
              "      <td>0.2</td>\n",
              "      <td>d</td>\n",
              "      <td>[en:hdpe-high-density-polyethylene, en:ldpe-lo...</td>\n",
              "      <td>0</td>\n",
              "      <td>1.0464698</td>\n",
              "      <td>0.0066875618</td>\n",
              "      <td>0.037393191</td>\n",
              "      <td>0.18422242</td>\n",
              "      <td>0.16364051</td>\n",
              "      <td>0.2340023</td>\n",
              "    </tr>\n",
              "  </tbody>\n",
              "</table>\n",
              "<p>5 rows × 27 columns</p>\n",
              "</div>\n",
              "      <button class=\"colab-df-convert\" onclick=\"convertToInteractive('df-cbc4b02e-619d-43dc-8bda-9f7e841b8922')\"\n",
              "              title=\"Convert this dataframe to an interactive table.\"\n",
              "              style=\"display:none;\">\n",
              "        \n",
              "  <svg xmlns=\"http://www.w3.org/2000/svg\" height=\"24px\"viewBox=\"0 0 24 24\"\n",
              "       width=\"24px\">\n",
              "    <path d=\"M0 0h24v24H0V0z\" fill=\"none\"/>\n",
              "    <path d=\"M18.56 5.44l.94 2.06.94-2.06 2.06-.94-2.06-.94-.94-2.06-.94 2.06-2.06.94zm-11 1L8.5 8.5l.94-2.06 2.06-.94-2.06-.94L8.5 2.5l-.94 2.06-2.06.94zm10 10l.94 2.06.94-2.06 2.06-.94-2.06-.94-.94-2.06-.94 2.06-2.06.94z\"/><path d=\"M17.41 7.96l-1.37-1.37c-.4-.4-.92-.59-1.43-.59-.52 0-1.04.2-1.43.59L10.3 9.45l-7.72 7.72c-.78.78-.78 2.05 0 2.83L4 21.41c.39.39.9.59 1.41.59.51 0 1.02-.2 1.41-.59l7.78-7.78 2.81-2.81c.8-.78.8-2.07 0-2.86zM5.41 20L4 18.59l7.72-7.72 1.47 1.35L5.41 20z\"/>\n",
              "  </svg>\n",
              "      </button>\n",
              "      \n",
              "  <style>\n",
              "    .colab-df-container {\n",
              "      display:flex;\n",
              "      flex-wrap:wrap;\n",
              "      gap: 12px;\n",
              "    }\n",
              "\n",
              "    .colab-df-convert {\n",
              "      background-color: #E8F0FE;\n",
              "      border: none;\n",
              "      border-radius: 50%;\n",
              "      cursor: pointer;\n",
              "      display: none;\n",
              "      fill: #1967D2;\n",
              "      height: 32px;\n",
              "      padding: 0 0 0 0;\n",
              "      width: 32px;\n",
              "    }\n",
              "\n",
              "    .colab-df-convert:hover {\n",
              "      background-color: #E2EBFA;\n",
              "      box-shadow: 0px 1px 2px rgba(60, 64, 67, 0.3), 0px 1px 3px 1px rgba(60, 64, 67, 0.15);\n",
              "      fill: #174EA6;\n",
              "    }\n",
              "\n",
              "    [theme=dark] .colab-df-convert {\n",
              "      background-color: #3B4455;\n",
              "      fill: #D2E3FC;\n",
              "    }\n",
              "\n",
              "    [theme=dark] .colab-df-convert:hover {\n",
              "      background-color: #434B5C;\n",
              "      box-shadow: 0px 1px 3px 1px rgba(0, 0, 0, 0.15);\n",
              "      filter: drop-shadow(0px 1px 2px rgba(0, 0, 0, 0.3));\n",
              "      fill: #FFFFFF;\n",
              "    }\n",
              "  </style>\n",
              "\n",
              "      <script>\n",
              "        const buttonEl =\n",
              "          document.querySelector('#df-cbc4b02e-619d-43dc-8bda-9f7e841b8922 button.colab-df-convert');\n",
              "        buttonEl.style.display =\n",
              "          google.colab.kernel.accessAllowed ? 'block' : 'none';\n",
              "\n",
              "        async function convertToInteractive(key) {\n",
              "          const element = document.querySelector('#df-cbc4b02e-619d-43dc-8bda-9f7e841b8922');\n",
              "          const dataTable =\n",
              "            await google.colab.kernel.invokeFunction('convertToInteractive',\n",
              "                                                     [key], {});\n",
              "          if (!dataTable) return;\n",
              "\n",
              "          const docLinkHtml = 'Like what you see? Visit the ' +\n",
              "            '<a target=\"_blank\" href=https://colab.research.google.com/notebooks/data_table.ipynb>data table notebook</a>'\n",
              "            + ' to learn more about interactive tables.';\n",
              "          element.innerHTML = '';\n",
              "          dataTable['output_type'] = 'display_data';\n",
              "          await google.colab.output.renderOutput(dataTable, element);\n",
              "          const docLink = document.createElement('div');\n",
              "          docLink.innerHTML = docLinkHtml;\n",
              "          element.appendChild(docLink);\n",
              "        }\n",
              "      </script>\n",
              "    </div>\n",
              "  </div>\n",
              "  "
            ],
            "text/plain": [
              "                                                name           brand  \\\n",
              "0                            Activia saveur coco x 4  Danone,Activia   \n",
              "1                                  Danup peche melba          Danone   \n",
              "2  Off-the-charts cherry pie flavor not-so-tradit...    Oikos,Danone   \n",
              "3                               Yaourt brassé nature          Danone   \n",
              "4                    Activia yaourt à boire myrtille  Danone,Activia   \n",
              "\n",
              "  generic_name                               categories_hierarchy is_beverage  \\\n",
              "0      unknown  [en:dairies, en:fermented-foods, en:desserts, ...           0   \n",
              "1      unknown  [en:plant-based-foods-and-beverages, en:bevera...           1   \n",
              "2               [en:dairies, en:fermented-foods, en:desserts, ...           0   \n",
              "3               [en:dairies, en:fermented-foods, en:desserts, ...           0   \n",
              "4      unknown  [en:beverages, en:dairies, en:fermented-foods,...           1   \n",
              "\n",
              "               selling_countries                          ingredient_origins  \\\n",
              "0        [en:belgium, en:france]  {'en:european-union': 50, 'en:france': 50}   \n",
              "1                   [en:tunisia]                         {'en:unknown': 100}   \n",
              "2  [en:france, en:united-states]                         {'en:unknown': 100}   \n",
              "3                    [en:france]                          {'en:france': 100}   \n",
              "4                    [en:poland]                         {'en:unknown': 100}   \n",
              "\n",
              "                                         ingredients additives_count  \\\n",
              "0  [{'id': 'en:whole-milk', 'percent_estimate': '...               0   \n",
              "1                                            unknown         unknown   \n",
              "2  [{'has_sub_ingredients': 'yes', 'id': 'en:yogu...               1   \n",
              "3  [{'id': 'en:whole-milk', 'origins': 'en:france...               0   \n",
              "4  [{'id': 'en:skimmed-milk', 'percent_estimate':...               0   \n",
              "\n",
              "  calcium_100g  ... sugars_100g nutrition_grade  \\\n",
              "0      unknown  ...        13.1               b   \n",
              "1      unknown  ...     unknown         unknown   \n",
              "2        0.067  ...       10.67               b   \n",
              "3        0.149  ...         5.7               b   \n",
              "4        0.105  ...         0.2               d   \n",
              "\n",
              "                                 packaging_materials  \\\n",
              "0                                       [en:plastic]   \n",
              "1                                       [en:unknown]   \n",
              "2                                       [en:plastic]   \n",
              "3                                       [en:plastic]   \n",
              "4  [en:hdpe-high-density-polyethylene, en:ldpe-lo...   \n",
              "\n",
              "  non_recyclable_and_non_biodegradable_materials_count est_co2_agriculture  \\\n",
              "0                                                  1            0.86833498   \n",
              "1                                                  1           0.091306974   \n",
              "2                                                  1             1.5302736   \n",
              "3                                                  1             1.5453452   \n",
              "4                                                  0             1.0464698   \n",
              "\n",
              "  est_co2_consumption est_co2_distribution est_co2_packaging  \\\n",
              "0        0.0066875618           0.03557378        0.17703201   \n",
              "1        0.0066875618          0.035436375        0.17779866   \n",
              "2        0.0066875618           0.03557378        0.18055336   \n",
              "3        0.0066875618           0.03557378        0.18055336   \n",
              "4        0.0066875618          0.037393191        0.18422242   \n",
              "\n",
              "  est_co2_processing est_co2_transportation  \n",
              "0         0.16833754              0.2016675  \n",
              "1        0.059533076             0.19037357  \n",
              "2         0.14868799             0.23648173  \n",
              "3         0.15006915             0.20177885  \n",
              "4         0.16364051              0.2340023  \n",
              "\n",
              "[5 rows x 27 columns]"
            ]
          },
          "execution_count": 4,
          "metadata": {},
          "output_type": "execute_result"
        }
      ],
      "source": [
        "data_test.head()"
      ]
    },
    {
      "attachments": {},
      "cell_type": "markdown",
      "metadata": {
        "id": "HKSP5y_wBma0"
      },
      "source": [
        "## Exploring and Preprocessing Data"
      ]
    },
    {
      "cell_type": "code",
      "execution_count": 5,
      "metadata": {
        "id": "5JJzvzPKwLPy"
      },
      "outputs": [],
      "source": [
        "# map\n",
        "d = {'a' : 1, 'b': 2, 'c':3, 'd':4, 'e':5, 'nan': float('nan')}\n",
        "data_train['nutrition_grade'] = data_train['nutrition_grade'].map(d)\n",
        "data_test['nutrition_grade'] = data_test['nutrition_grade'].map(d)"
      ]
    },
    {
      "cell_type": "code",
      "execution_count": 6,
      "metadata": {
        "colab": {
          "base_uri": "https://localhost:8080/"
        },
        "id": "BKsFG_vFM-wd",
        "outputId": "cc6a1e70-3ada-4df0-9bcf-be72393ee110"
      },
      "outputs": [
        {
          "name": "stdout",
          "output_type": "stream",
          "text": [
            "<class 'pandas.core.frame.DataFrame'>\n",
            "Int64Index: 20835 entries, 0 to 20834\n",
            "Data columns (total 28 columns):\n",
            " #   Column                                                Non-Null Count  Dtype  \n",
            "---  ------                                                --------------  -----  \n",
            " 0   name                                                  20835 non-null  object \n",
            " 1   brand                                                 20835 non-null  object \n",
            " 2   generic_name                                          20835 non-null  object \n",
            " 3   categories_hierarchy                                  20835 non-null  object \n",
            " 4   is_beverage                                           20835 non-null  object \n",
            " 5   selling_countries                                     20835 non-null  object \n",
            " 6   ingredient_origins                                    20835 non-null  object \n",
            " 7   ingredients                                           20835 non-null  object \n",
            " 8   additives_count                                       20835 non-null  object \n",
            " 9   calcium_100g                                          20835 non-null  object \n",
            " 10  carbohydrates_100g                                    20835 non-null  object \n",
            " 11  energy_kcal_100g                                      20835 non-null  object \n",
            " 12  fat_100g                                              20835 non-null  object \n",
            " 13  fiber_100g                                            20835 non-null  object \n",
            " 14  proteins_100g                                         20835 non-null  object \n",
            " 15  salt_100g                                             20835 non-null  object \n",
            " 16  sodium_100g                                           20835 non-null  object \n",
            " 17  sugars_100g                                           20835 non-null  object \n",
            " 18  nutrition_grade                                       16913 non-null  float64\n",
            " 19  packaging_materials                                   20835 non-null  object \n",
            " 20  non_recyclable_and_non_biodegradable_materials_count  20835 non-null  object \n",
            " 21  est_co2_agriculture                                   20835 non-null  object \n",
            " 22  est_co2_consumption                                   20835 non-null  object \n",
            " 23  est_co2_distribution                                  20835 non-null  object \n",
            " 24  est_co2_packaging                                     20835 non-null  object \n",
            " 25  est_co2_processing                                    20835 non-null  object \n",
            " 26  est_co2_transportation                                20835 non-null  object \n",
            " 27  ecoscore_grade                                        20835 non-null  object \n",
            "dtypes: float64(1), object(27)\n",
            "memory usage: 5.1+ MB\n"
          ]
        }
      ],
      "source": [
        "data_train.info()"
      ]
    },
    {
      "cell_type": "code",
      "execution_count": 7,
      "metadata": {
        "colab": {
          "base_uri": "https://localhost:8080/"
        },
        "id": "RnQtx5NhM-we",
        "outputId": "58e45ae1-9e6e-4470-ee33-af564a8ffa16"
      },
      "outputs": [
        {
          "name": "stdout",
          "output_type": "stream",
          "text": [
            "<class 'pandas.core.frame.DataFrame'>\n",
            "Int64Index: 1272 entries, 0 to 1271\n",
            "Data columns (total 27 columns):\n",
            " #   Column                                                Non-Null Count  Dtype  \n",
            "---  ------                                                --------------  -----  \n",
            " 0   name                                                  1272 non-null   object \n",
            " 1   brand                                                 1272 non-null   object \n",
            " 2   generic_name                                          1272 non-null   object \n",
            " 3   categories_hierarchy                                  1272 non-null   object \n",
            " 4   is_beverage                                           1272 non-null   object \n",
            " 5   selling_countries                                     1272 non-null   object \n",
            " 6   ingredient_origins                                    1272 non-null   object \n",
            " 7   ingredients                                           1272 non-null   object \n",
            " 8   additives_count                                       1272 non-null   object \n",
            " 9   calcium_100g                                          1272 non-null   object \n",
            " 10  carbohydrates_100g                                    1272 non-null   object \n",
            " 11  energy_kcal_100g                                      1272 non-null   object \n",
            " 12  fat_100g                                              1272 non-null   object \n",
            " 13  fiber_100g                                            1272 non-null   object \n",
            " 14  proteins_100g                                         1272 non-null   object \n",
            " 15  salt_100g                                             1272 non-null   object \n",
            " 16  sodium_100g                                           1272 non-null   object \n",
            " 17  sugars_100g                                           1272 non-null   object \n",
            " 18  nutrition_grade                                       1072 non-null   float64\n",
            " 19  packaging_materials                                   1272 non-null   object \n",
            " 20  non_recyclable_and_non_biodegradable_materials_count  1272 non-null   object \n",
            " 21  est_co2_agriculture                                   1272 non-null   object \n",
            " 22  est_co2_consumption                                   1272 non-null   object \n",
            " 23  est_co2_distribution                                  1272 non-null   object \n",
            " 24  est_co2_packaging                                     1272 non-null   object \n",
            " 25  est_co2_processing                                    1272 non-null   object \n",
            " 26  est_co2_transportation                                1272 non-null   object \n",
            "dtypes: float64(1), object(26)\n",
            "memory usage: 310.5+ KB\n"
          ]
        }
      ],
      "source": [
        "data_test.info()"
      ]
    },
    {
      "cell_type": "code",
      "execution_count": 8,
      "metadata": {
        "id": "EedyvuGlM-we"
      },
      "outputs": [],
      "source": [
        "# change the 'unknown' to 'nan'\n",
        "data_train = data_train.replace('unknown', np.nan)\n",
        "data_test = data_test.replace('unknown', np.nan)"
      ]
    },
    {
      "cell_type": "code",
      "execution_count": 9,
      "metadata": {
        "id": "1VFfcpDHM-we"
      },
      "outputs": [],
      "source": [
        "# Setting float types\n",
        "# data_train.iloc[:,-8:] = data_train.iloc[:,-8:].astype('float')\n",
        "# data_test.iloc[:,-7:] = data_test.iloc[:,-7:].astype('float')\n",
        "\n",
        "list_numerical = ['is_beverage','additives_count','calcium_100g','carbohydrates_100g',\n",
        "                  'energy_kcal_100g', 'fat_100g','fiber_100g', 'proteins_100g',\n",
        "                  'salt_100g', 'sodium_100g', 'sugars_100g', 'nutrition_grade',\n",
        "                  'non_recyclable_and_non_biodegradable_materials_count',\n",
        "                  'est_co2_agriculture','est_co2_consumption','est_co2_distribution',\n",
        "                  'est_co2_packaging', 'est_co2_processing',\n",
        "                  'est_co2_transportation', 'ecoscore_grade']\n",
        "\n",
        "for column in list_numerical :\n",
        "  if column != 'ecoscore_grade':\n",
        "    data_train[column] = data_train[column].astype('float')\n",
        "    data_test[column] = data_test[column].astype('float')\n",
        "  else:\n",
        "    data_train[column] = data_train[column].astype('float')"
      ]
    },
    {
      "cell_type": "code",
      "execution_count": 10,
      "metadata": {
        "id": "Q4a9Zgnu4_v_"
      },
      "outputs": [],
      "source": [
        "data_train.drop(['name', 'brand', 'generic_name', 'selling_countries',\n",
        "                 'ingredient_origins', 'is_beverage','additives_count',\n",
        "                 'calcium_100g','carbohydrates_100g',\n",
        "                  'energy_kcal_100g', 'fat_100g','fiber_100g', 'proteins_100g',\n",
        "                  'salt_100g', 'sodium_100g', 'sugars_100g', 'nutrition_grade'], axis=1, inplace=True)\n",
        "data_train.fillna(0, inplace = True)\n",
        "data_test.drop(['name', 'brand', 'generic_name', 'selling_countries',\n",
        "                'ingredient_origins', 'is_beverage','additives_count',\n",
        "                'calcium_100g','carbohydrates_100g',\n",
        "                  'energy_kcal_100g', 'fat_100g','fiber_100g', 'proteins_100g',\n",
        "                  'salt_100g', 'sodium_100g', 'sugars_100g', 'nutrition_grade'], axis=1, inplace=True)\n",
        "data_test.fillna(0, inplace = True)"
      ]
    },
    {
      "cell_type": "code",
      "execution_count": 11,
      "metadata": {
        "colab": {
          "base_uri": "https://localhost:8080/",
          "height": 409
        },
        "id": "CuLi1xEw_EoS",
        "outputId": "89a535f3-b05c-467e-9971-624d0652e98d"
      },
      "outputs": [
        {
          "data": {
            "text/html": [
              "\n",
              "  <div id=\"df-c558337c-da98-46d7-a08f-cfaa2fed6371\">\n",
              "    <div class=\"colab-df-container\">\n",
              "      <div>\n",
              "<style scoped>\n",
              "    .dataframe tbody tr th:only-of-type {\n",
              "        vertical-align: middle;\n",
              "    }\n",
              "\n",
              "    .dataframe tbody tr th {\n",
              "        vertical-align: top;\n",
              "    }\n",
              "\n",
              "    .dataframe thead th {\n",
              "        text-align: right;\n",
              "    }\n",
              "</style>\n",
              "<table border=\"1\" class=\"dataframe\">\n",
              "  <thead>\n",
              "    <tr style=\"text-align: right;\">\n",
              "      <th></th>\n",
              "      <th>categories_hierarchy</th>\n",
              "      <th>ingredients</th>\n",
              "      <th>packaging_materials</th>\n",
              "      <th>non_recyclable_and_non_biodegradable_materials_count</th>\n",
              "      <th>est_co2_agriculture</th>\n",
              "      <th>est_co2_consumption</th>\n",
              "      <th>est_co2_distribution</th>\n",
              "      <th>est_co2_packaging</th>\n",
              "      <th>est_co2_processing</th>\n",
              "      <th>est_co2_transportation</th>\n",
              "      <th>ecoscore_grade</th>\n",
              "    </tr>\n",
              "  </thead>\n",
              "  <tbody>\n",
              "    <tr>\n",
              "      <th>0</th>\n",
              "      <td>[en:frozen-foods, en:frozen-fried-potatoes, en...</td>\n",
              "      <td>[{'id': 'en:potato', 'percent': 82, 'percent_e...</td>\n",
              "      <td>[en:plastic]</td>\n",
              "      <td>1.0</td>\n",
              "      <td>1.405794</td>\n",
              "      <td>0.122097</td>\n",
              "      <td>0.151978</td>\n",
              "      <td>0.400866</td>\n",
              "      <td>0.123400</td>\n",
              "      <td>0.344651</td>\n",
              "      <td>2.0</td>\n",
              "    </tr>\n",
              "    <tr>\n",
              "      <th>1</th>\n",
              "      <td>[en:snacks, en:desserts, en:sweet-snacks, en:f...</td>\n",
              "      <td>[{'id': 'en:glucose-syrup', 'percent_estimate'...</td>\n",
              "      <td>[en:cardboard, en:plastic]</td>\n",
              "      <td>1.0</td>\n",
              "      <td>1.772009</td>\n",
              "      <td>0.000000</td>\n",
              "      <td>0.019531</td>\n",
              "      <td>0.288156</td>\n",
              "      <td>5.215055</td>\n",
              "      <td>0.171567</td>\n",
              "      <td>3.0</td>\n",
              "    </tr>\n",
              "    <tr>\n",
              "      <th>2</th>\n",
              "      <td>[en:plant-based-foods-and-beverages, en:plant-...</td>\n",
              "      <td>[{'id': 'en:whole-wheat-flour', 'percent': 37,...</td>\n",
              "      <td>[en:paperboard, en:plastic]</td>\n",
              "      <td>1.0</td>\n",
              "      <td>2.239600</td>\n",
              "      <td>0.000000</td>\n",
              "      <td>0.019531</td>\n",
              "      <td>0.281596</td>\n",
              "      <td>0.770511</td>\n",
              "      <td>0.252874</td>\n",
              "      <td>3.0</td>\n",
              "    </tr>\n",
              "    <tr>\n",
              "      <th>3</th>\n",
              "      <td>[en:dairies, en:fermented-foods, en:fermented-...</td>\n",
              "      <td>[{'has_sub_ingredients': 'yes', 'id': 'en:chee...</td>\n",
              "      <td>[en:plastic]</td>\n",
              "      <td>1.0</td>\n",
              "      <td>4.536405</td>\n",
              "      <td>0.006688</td>\n",
              "      <td>0.037393</td>\n",
              "      <td>0.185784</td>\n",
              "      <td>0.458632</td>\n",
              "      <td>0.217118</td>\n",
              "      <td>3.0</td>\n",
              "    </tr>\n",
              "    <tr>\n",
              "      <th>4</th>\n",
              "      <td>[en:plant-based-foods-and-beverages, en:plant-...</td>\n",
              "      <td>[{'id': 'en:turmeric', 'percent_estimate': 55....</td>\n",
              "      <td>[en:glass, en:plastic, en:unknown]</td>\n",
              "      <td>0.0</td>\n",
              "      <td>7.918371</td>\n",
              "      <td>0.000000</td>\n",
              "      <td>0.015709</td>\n",
              "      <td>0.478390</td>\n",
              "      <td>0.445327</td>\n",
              "      <td>0.334988</td>\n",
              "      <td>4.0</td>\n",
              "    </tr>\n",
              "  </tbody>\n",
              "</table>\n",
              "</div>\n",
              "      <button class=\"colab-df-convert\" onclick=\"convertToInteractive('df-c558337c-da98-46d7-a08f-cfaa2fed6371')\"\n",
              "              title=\"Convert this dataframe to an interactive table.\"\n",
              "              style=\"display:none;\">\n",
              "        \n",
              "  <svg xmlns=\"http://www.w3.org/2000/svg\" height=\"24px\"viewBox=\"0 0 24 24\"\n",
              "       width=\"24px\">\n",
              "    <path d=\"M0 0h24v24H0V0z\" fill=\"none\"/>\n",
              "    <path d=\"M18.56 5.44l.94 2.06.94-2.06 2.06-.94-2.06-.94-.94-2.06-.94 2.06-2.06.94zm-11 1L8.5 8.5l.94-2.06 2.06-.94-2.06-.94L8.5 2.5l-.94 2.06-2.06.94zm10 10l.94 2.06.94-2.06 2.06-.94-2.06-.94-.94-2.06-.94 2.06-2.06.94z\"/><path d=\"M17.41 7.96l-1.37-1.37c-.4-.4-.92-.59-1.43-.59-.52 0-1.04.2-1.43.59L10.3 9.45l-7.72 7.72c-.78.78-.78 2.05 0 2.83L4 21.41c.39.39.9.59 1.41.59.51 0 1.02-.2 1.41-.59l7.78-7.78 2.81-2.81c.8-.78.8-2.07 0-2.86zM5.41 20L4 18.59l7.72-7.72 1.47 1.35L5.41 20z\"/>\n",
              "  </svg>\n",
              "      </button>\n",
              "      \n",
              "  <style>\n",
              "    .colab-df-container {\n",
              "      display:flex;\n",
              "      flex-wrap:wrap;\n",
              "      gap: 12px;\n",
              "    }\n",
              "\n",
              "    .colab-df-convert {\n",
              "      background-color: #E8F0FE;\n",
              "      border: none;\n",
              "      border-radius: 50%;\n",
              "      cursor: pointer;\n",
              "      display: none;\n",
              "      fill: #1967D2;\n",
              "      height: 32px;\n",
              "      padding: 0 0 0 0;\n",
              "      width: 32px;\n",
              "    }\n",
              "\n",
              "    .colab-df-convert:hover {\n",
              "      background-color: #E2EBFA;\n",
              "      box-shadow: 0px 1px 2px rgba(60, 64, 67, 0.3), 0px 1px 3px 1px rgba(60, 64, 67, 0.15);\n",
              "      fill: #174EA6;\n",
              "    }\n",
              "\n",
              "    [theme=dark] .colab-df-convert {\n",
              "      background-color: #3B4455;\n",
              "      fill: #D2E3FC;\n",
              "    }\n",
              "\n",
              "    [theme=dark] .colab-df-convert:hover {\n",
              "      background-color: #434B5C;\n",
              "      box-shadow: 0px 1px 3px 1px rgba(0, 0, 0, 0.15);\n",
              "      filter: drop-shadow(0px 1px 2px rgba(0, 0, 0, 0.3));\n",
              "      fill: #FFFFFF;\n",
              "    }\n",
              "  </style>\n",
              "\n",
              "      <script>\n",
              "        const buttonEl =\n",
              "          document.querySelector('#df-c558337c-da98-46d7-a08f-cfaa2fed6371 button.colab-df-convert');\n",
              "        buttonEl.style.display =\n",
              "          google.colab.kernel.accessAllowed ? 'block' : 'none';\n",
              "\n",
              "        async function convertToInteractive(key) {\n",
              "          const element = document.querySelector('#df-c558337c-da98-46d7-a08f-cfaa2fed6371');\n",
              "          const dataTable =\n",
              "            await google.colab.kernel.invokeFunction('convertToInteractive',\n",
              "                                                     [key], {});\n",
              "          if (!dataTable) return;\n",
              "\n",
              "          const docLinkHtml = 'Like what you see? Visit the ' +\n",
              "            '<a target=\"_blank\" href=https://colab.research.google.com/notebooks/data_table.ipynb>data table notebook</a>'\n",
              "            + ' to learn more about interactive tables.';\n",
              "          element.innerHTML = '';\n",
              "          dataTable['output_type'] = 'display_data';\n",
              "          await google.colab.output.renderOutput(dataTable, element);\n",
              "          const docLink = document.createElement('div');\n",
              "          docLink.innerHTML = docLinkHtml;\n",
              "          element.appendChild(docLink);\n",
              "        }\n",
              "      </script>\n",
              "    </div>\n",
              "  </div>\n",
              "  "
            ],
            "text/plain": [
              "                                categories_hierarchy  \\\n",
              "0  [en:frozen-foods, en:frozen-fried-potatoes, en...   \n",
              "1  [en:snacks, en:desserts, en:sweet-snacks, en:f...   \n",
              "2  [en:plant-based-foods-and-beverages, en:plant-...   \n",
              "3  [en:dairies, en:fermented-foods, en:fermented-...   \n",
              "4  [en:plant-based-foods-and-beverages, en:plant-...   \n",
              "\n",
              "                                         ingredients  \\\n",
              "0  [{'id': 'en:potato', 'percent': 82, 'percent_e...   \n",
              "1  [{'id': 'en:glucose-syrup', 'percent_estimate'...   \n",
              "2  [{'id': 'en:whole-wheat-flour', 'percent': 37,...   \n",
              "3  [{'has_sub_ingredients': 'yes', 'id': 'en:chee...   \n",
              "4  [{'id': 'en:turmeric', 'percent_estimate': 55....   \n",
              "\n",
              "                  packaging_materials  \\\n",
              "0                        [en:plastic]   \n",
              "1          [en:cardboard, en:plastic]   \n",
              "2         [en:paperboard, en:plastic]   \n",
              "3                        [en:plastic]   \n",
              "4  [en:glass, en:plastic, en:unknown]   \n",
              "\n",
              "   non_recyclable_and_non_biodegradable_materials_count  est_co2_agriculture  \\\n",
              "0                                                1.0                1.405794   \n",
              "1                                                1.0                1.772009   \n",
              "2                                                1.0                2.239600   \n",
              "3                                                1.0                4.536405   \n",
              "4                                                0.0                7.918371   \n",
              "\n",
              "   est_co2_consumption  est_co2_distribution  est_co2_packaging  \\\n",
              "0             0.122097              0.151978           0.400866   \n",
              "1             0.000000              0.019531           0.288156   \n",
              "2             0.000000              0.019531           0.281596   \n",
              "3             0.006688              0.037393           0.185784   \n",
              "4             0.000000              0.015709           0.478390   \n",
              "\n",
              "   est_co2_processing  est_co2_transportation  ecoscore_grade  \n",
              "0            0.123400                0.344651             2.0  \n",
              "1            5.215055                0.171567             3.0  \n",
              "2            0.770511                0.252874             3.0  \n",
              "3            0.458632                0.217118             3.0  \n",
              "4            0.445327                0.334988             4.0  "
            ]
          },
          "execution_count": 11,
          "metadata": {},
          "output_type": "execute_result"
        }
      ],
      "source": [
        "data_train.head()"
      ]
    },
    {
      "attachments": {},
      "cell_type": "markdown",
      "metadata": {
        "id": "gtq8roxl5od1"
      },
      "source": [
        "We will use the main category and the main ingredient."
      ]
    },
    {
      "attachments": {},
      "cell_type": "markdown",
      "metadata": {
        "id": "q5auhYhU7whr"
      },
      "source": [
        "* Main category column"
      ]
    },
    {
      "cell_type": "code",
      "execution_count": 12,
      "metadata": {
        "id": "KQ9O_96a8nDT"
      },
      "outputs": [],
      "source": [
        "ecoscore_grade = data_train['ecoscore_grade']\n",
        "data_train.drop('ecoscore_grade', axis=1, inplace=True)"
      ]
    },
    {
      "cell_type": "code",
      "execution_count": 13,
      "metadata": {
        "colab": {
          "base_uri": "https://localhost:8080/"
        },
        "id": "_iNITQNE5f_j",
        "outputId": "55ae2d7d-4f50-4658-bda1-9c5f8783710c"
      },
      "outputs": [
        {
          "name": "stdout",
          "output_type": "stream",
          "text": [
            "Length of all the materials for training set : 28\n",
            "Length of all the materials for test set : 10\n"
          ]
        }
      ],
      "source": [
        "import re\n",
        "\n",
        "# match everything that is after 'en:'\n",
        "regex = re.compile(r'en:(.*)')\n",
        "\n",
        "ser = data_train.loc[:,'categories_hierarchy']\n",
        "ser_2 = data_test.loc[:,'categories_hierarchy']\n",
        "\n",
        "categories_train = []\n",
        "categories_test = []\n",
        "\n",
        "for i in range(len(ser)):\n",
        "    main_category = ser[i][0]\n",
        "    categories_train.append(regex.findall(main_category))\n",
        "\n",
        "for i in range(len(ser_2)):\n",
        "    main_category = ser_2[i][0]\n",
        "    categories_test.append(regex.findall(main_category))\n",
        "\n",
        "categories_train = [item for sublist in categories_train for item in sublist]\n",
        "categories_train_nr = list(set(categories_train))\n",
        "\n",
        "categories_test = [item for sublist in categories_test for item in sublist]\n",
        "categories_test_nr = list(set(categories_test))\n",
        "\n",
        "print(f'Length of all the materials for training set : {len(categories_train_nr)}')\n",
        "print(f'Length of all the materials for test set : {len(categories_test_nr)}')"
      ]
    },
    {
      "cell_type": "code",
      "execution_count": 14,
      "metadata": {
        "colab": {
          "base_uri": "https://localhost:8080/"
        },
        "id": "5yB38reH9f9z",
        "outputId": "e8d54a1a-c402-41d3-a63c-6fe7d4e7a92b"
      },
      "outputs": [
        {
          "name": "stdout",
          "output_type": "stream",
          "text": [
            "Total categories : 28\n"
          ]
        }
      ],
      "source": [
        "categories_general = list(set(categories_train_nr).union(set(categories_test_nr)))\n",
        "print(f'Total categories : {len(categories_general)}')"
      ]
    },
    {
      "cell_type": "code",
      "execution_count": 15,
      "metadata": {
        "id": "56QOc22bSuGY"
      },
      "outputs": [],
      "source": [
        "categories_mapping = {category : number for number, category in enumerate(categories_general)}"
      ]
    },
    {
      "cell_type": "code",
      "execution_count": 16,
      "metadata": {
        "id": "cnWXC4rm-Af-"
      },
      "outputs": [],
      "source": [
        "# Add the main category column\n",
        "data_train['main_category'] = 0\n",
        "data_test['main_category'] = 0\n",
        "\n",
        "# Fillin the values\n",
        "for i in range(len(ser)):\n",
        "    for category in categories_general:\n",
        "        if category in ser[i][0]:\n",
        "            data_train.loc[i, 'main_category'] = categories_mapping[category]\n",
        "\n",
        "# Fillin the values\n",
        "for i in range(len(ser_2)):\n",
        "    for category in categories_general:\n",
        "        if category in ser_2[i][0]:\n",
        "            data_test.loc[i, 'main_category'] = categories_mapping[category]"
      ]
    },
    {
      "cell_type": "code",
      "execution_count": 17,
      "metadata": {
        "id": "q3_v-lB_Gwiy"
      },
      "outputs": [],
      "source": [
        "data_train.drop('categories_hierarchy', axis=1, inplace=True)\n",
        "data_test.drop('categories_hierarchy', axis=1, inplace=True)"
      ]
    },
    {
      "attachments": {},
      "cell_type": "markdown",
      "metadata": {
        "id": "hlQvf9l2GpD3"
      },
      "source": [
        "* Main ingredient"
      ]
    },
    {
      "cell_type": "code",
      "execution_count": 18,
      "metadata": {
        "id": "MvLRYRBJHWIk"
      },
      "outputs": [],
      "source": [
        "data_train['ingredients'] = data_train.loc[:,['ingredients']].replace(0, 'unknown_ingredient')\n",
        "data_test['ingredients'] = data_test.loc[:,['ingredients']].replace(0, 'unknown_ingredient')"
      ]
    },
    {
      "cell_type": "code",
      "execution_count": 19,
      "metadata": {
        "colab": {
          "base_uri": "https://localhost:8080/"
        },
        "id": "aFuUxV8RGqpe",
        "outputId": "e08a3b2c-a137-40b0-9591-093d9b8b9476"
      },
      "outputs": [
        {
          "name": "stdout",
          "output_type": "stream",
          "text": [
            "Length of all the main ingredients for training set : 910\n",
            "Length of all the main ingredients for test set : 84\n"
          ]
        }
      ],
      "source": [
        "# match everything that is after 'en:'\n",
        "regex = re.compile(r'en:(.*)')\n",
        "\n",
        "ser = data_train['ingredients']\n",
        "ser_2 = data_test['ingredients']\n",
        "\n",
        "ingredients_train = []\n",
        "ingredients_test = []\n",
        "\n",
        "for i in range(len(ser)):\n",
        "    ingredient = ser[i]\n",
        "    if ingredient == 'unknown_ingredient' or ingredient==[]:\n",
        "      ingredients_train.append(['unknown_ingredient'])\n",
        "      continue\n",
        "    ingredients_train.append(regex.findall(ingredient[0]['id']))\n",
        "\n",
        "for i in range(len(ser_2)):\n",
        "    ingredient = ser_2[i]\n",
        "    if ingredient == 'unknown_ingredient' or ingredient==[]:\n",
        "      ingredients_test.append(['unknown_ingredient'])\n",
        "      continue\n",
        "    ingredients_test.append(regex.findall(ingredient[0]['id']))\n",
        "\n",
        "ingredients_train = [item for sublist in ingredients_train for item in sublist]\n",
        "ingredients_train_nr = list(set(ingredients_train))\n",
        "\n",
        "ingredients_test = [item for sublist in ingredients_test for item in sublist]\n",
        "ingredients_test_nr = list(set(ingredients_test))\n",
        "\n",
        "print(f'Length of all the main ingredients for training set : {len(ingredients_train_nr)}')\n",
        "print(f'Length of all the main ingredients for test set : {len(ingredients_test_nr)}')\n"
      ]
    },
    {
      "cell_type": "code",
      "execution_count": 20,
      "metadata": {
        "colab": {
          "base_uri": "https://localhost:8080/"
        },
        "id": "0HqjBaqOJv8n",
        "outputId": "cc7c6d5f-b375-441d-a3ad-7dcb2b9b9b94"
      },
      "outputs": [
        {
          "name": "stdout",
          "output_type": "stream",
          "text": [
            "Total ingredients : 936\n"
          ]
        }
      ],
      "source": [
        "ingredients_general = list(set(ingredients_test_nr).union(set(ingredients_train_nr)))\n",
        "print(f'Total ingredients : {len(ingredients_general)}')"
      ]
    },
    {
      "cell_type": "code",
      "execution_count": 21,
      "metadata": {
        "id": "3dPB-F_SVNHg"
      },
      "outputs": [],
      "source": [
        "ingredients_mapping = {ingredient : number for number, ingredient in enumerate(ingredients_general)}"
      ]
    },
    {
      "cell_type": "code",
      "execution_count": 22,
      "metadata": {
        "id": "d0YI76CYVjUW"
      },
      "outputs": [],
      "source": [
        "# Add the main ingredient column\n",
        "data_train['main_ingredient'] = 0\n",
        "data_test['main_ingredient'] = 0\n",
        "\n",
        "# Fillin the values train\n",
        "for i in range(len(ingredients_train)):\n",
        "  data_train.loc[i, 'main_ingredient'] = ingredients_mapping[ingredients_train[i]]\n",
        "\n",
        "# Fillin the values test\n",
        "for i in range(len(ingredients_test)):\n",
        "  data_test.loc[i, 'main_ingredient'] = ingredients_mapping[ingredients_test[i]]"
      ]
    },
    {
      "cell_type": "code",
      "execution_count": 23,
      "metadata": {
        "id": "8av03Az8OaVN"
      },
      "outputs": [],
      "source": [
        "data_train.drop('ingredients', axis=1, inplace=True)\n",
        "data_test.drop('ingredients', axis=1, inplace=True)"
      ]
    },
    {
      "attachments": {},
      "cell_type": "markdown",
      "metadata": {
        "id": "IuyO99hp58AA"
      },
      "source": [
        "* Packaging material: One hot for the packaging material"
      ]
    },
    {
      "cell_type": "code",
      "execution_count": 24,
      "metadata": {
        "colab": {
          "base_uri": "https://localhost:8080/"
        },
        "id": "GhVW7ZVgM-wf",
        "outputId": "113e4dc4-6f0e-45e2-a1ee-ef7c2be141c5"
      },
      "outputs": [
        {
          "name": "stdout",
          "output_type": "stream",
          "text": [
            "Length of all the materials for training set : 66\n",
            "Length of all the materials for test set : 27\n"
          ]
        }
      ],
      "source": [
        "# match everything that is after 'en:'\n",
        "regex = re.compile(r'en:(.*)')\n",
        "\n",
        "ser = data_train.loc[:,'packaging_materials']\n",
        "ser_2 = data_test.loc[:,'packaging_materials']\n",
        "\n",
        "materials_train = []\n",
        "materials_test = []\n",
        "\n",
        "for i in range(len(ser)):\n",
        "    for j in range(len(ser[i])):\n",
        "        materials_train.append(regex.findall(ser[i][j]))\n",
        "\n",
        "for i in range(len(ser_2)):\n",
        "    for j in range(len(ser_2[i])):\n",
        "        materials_test.append(regex.findall(ser_2[i][j]))\n",
        "\n",
        "materials_train = [item for sublist in materials_train for item in sublist]\n",
        "materials_train = list(set(materials_train))\n",
        "\n",
        "materials_test = [item for sublist in materials_test for item in sublist]\n",
        "materials_test = list(set(materials_test))\n",
        "\n",
        "print(f'Length of all the materials for training set : {len(materials_train)}')\n",
        "print(f'Length of all the materials for test set : {len(materials_test)}')"
      ]
    },
    {
      "cell_type": "code",
      "execution_count": 25,
      "metadata": {
        "colab": {
          "base_uri": "https://localhost:8080/"
        },
        "id": "l-fP0PtgM-wf",
        "outputId": "83419b62-a1ed-46d9-82ca-feb33a0489b5"
      },
      "outputs": [
        {
          "name": "stdout",
          "output_type": "stream",
          "text": [
            "Total materials : 69\n"
          ]
        }
      ],
      "source": [
        "materials_general = list(set(materials_test).union(set(materials_train)))\n",
        "print(f'Total materials : {len(materials_general)}')"
      ]
    },
    {
      "cell_type": "code",
      "execution_count": 26,
      "metadata": {
        "id": "NG0pZv6wM-wg"
      },
      "outputs": [],
      "source": [
        "# add the materials as columns\n",
        "for material in materials_general:\n",
        "    data_train[material] = 0\n",
        "    data_test[material] = 0\n",
        "\n",
        "# Fillin the values\n",
        "for i in range(len(ser)):\n",
        "    for j in ser[i]:\n",
        "        for material in materials_general:\n",
        "            if material in j:\n",
        "                data_train.loc[i, material] = 1\n",
        "\n",
        "# Fillin the values\n",
        "for i in range(len(ser_2)):\n",
        "    for j in ser_2[i]:\n",
        "        for material in materials_general:\n",
        "            if material in j:\n",
        "                data_test.loc[i, material] = 1"
      ]
    },
    {
      "cell_type": "code",
      "execution_count": 27,
      "metadata": {
        "id": "XB4VKikTwVf-"
      },
      "outputs": [],
      "source": [
        "data_train.drop(['packaging_materials'], axis=1, inplace=True)\n",
        "data_test.drop(['packaging_materials'], axis=1, inplace=True)"
      ]
    },
    {
      "attachments": {},
      "cell_type": "markdown",
      "metadata": {
        "id": "FVjd9V6kM-wg"
      },
      "source": [
        "### Profiling\n",
        "\n",
        "This library allows us to extract descriptive information about the data set and how it is distributed. It is a very useful tool to get a first impression of the data."
      ]
    },
    {
      "cell_type": "code",
      "execution_count": 28,
      "metadata": {
        "id": "fEZKD2yLOHrl"
      },
      "outputs": [],
      "source": [
        "#!pip install pandas_profiling"
      ]
    },
    {
      "cell_type": "code",
      "execution_count": 29,
      "metadata": {
        "colab": {
          "base_uri": "https://localhost:8080/",
          "height": 201,
          "referenced_widgets": [
            "714153df6f67471dba319440a8c82763",
            "25c87eafb7354db592902d395734971b",
            "49e7077c1c0f4a4a83ef04655b75b0c3",
            "5a1e49c1ee2a43f6a99ae6511996e7ea",
            "c2e04049c41742898e19aa4dcbc57f16",
            "24422ac4a31f4468bee764eb914dac01",
            "959cb7f748584f65ab7e2812d35509ce",
            "3a8a8b4ca1b3427fb165c4b8be3815ea",
            "85aaa12b9d81447f8034d944171bea3c",
            "d40118c492d249fc9f9893e2e891229b",
            "ba469ea97caa477ca42ab00b8e75799b",
            "27e803337f0446c5bc8443189c1bb304",
            "13bff51baac54bf489b72729376f43ad",
            "5af4330472394fd0a6f07f8f53038203",
            "4a921aadfa0349ac859e54933f5eb15e",
            "cac1566d20e441ca82385a06cdf0ccb8",
            "0fa0fd65bd514fc59d50c8ce5d0cdeef",
            "f07347362944400a8d293976a1561552",
            "31b0761eeb5548f0be75f121c01f9904",
            "758886c601e64191a1bc4688cae558b7",
            "879f13be65f049f9b47b0a92c56ad3de",
            "f29ccc03123541e9850e374604f86b99",
            "55aa5de3f052457fb5553cdff8a75b4d",
            "1386d5784888416482637f9b96adc4a7",
            "21bd695ac78447f4a600362360fdde21",
            "08ccea19439b4b5b94611651569c7c5b",
            "e66b3b6ec3bf45f987223e2772b76e6c",
            "eb62a5d60bf144a7ab28a469a8536585",
            "a50ce01154d84fc1b979e484b1814047",
            "12520ffc55e44135acca63fad28edc98",
            "0be5ee857f804c4c97fea8858604599d",
            "cb18849b0544438198f28825b64395aa",
            "89af632685a44f8e8d10570c48838282",
            "6c539ce32d324d1ebfe182f691580bef",
            "7bceface38a745188ae0c770795634e4",
            "3daba5fba40741f4984ea922bedf383e",
            "68eac246e8e4409c9a6ae90b96c64990",
            "0a5c1dc555854589b1432a808c651209",
            "d6ae229cbd7f4711a2a294b5408633d0",
            "688755fb925a4be684850ad3a6a0176d",
            "76f187e3a1dc4cb5b0e9b905e926968d",
            "30d6b9f2369b4e66bfdf536382b55fb3",
            "bdb2ba93847c43d6a5f055bf4119ddad",
            "c3f8abdee56d48db825a79155aac8960"
          ]
        },
        "id": "Uj6H-7NIM-wg",
        "outputId": "405b127f-9de9-4972-817a-4302513fa692"
      },
      "outputs": [
        {
          "name": "stderr",
          "output_type": "stream",
          "text": [
            "<ipython-input-29-368036e09734>:1: DeprecationWarning: `import pandas_profiling` is going to be deprecated by April 1st. Please use `import ydata_profiling` instead.\n",
            "  import pandas_profiling\n"
          ]
        },
        {
          "data": {
            "application/vnd.jupyter.widget-view+json": {
              "model_id": "714153df6f67471dba319440a8c82763",
              "version_major": 2,
              "version_minor": 0
            },
            "text/plain": [
              "Summarize dataset:   0%|          | 0/5 [00:00<?, ?it/s]"
            ]
          },
          "metadata": {},
          "output_type": "display_data"
        },
        {
          "data": {
            "application/vnd.jupyter.widget-view+json": {
              "model_id": "27e803337f0446c5bc8443189c1bb304",
              "version_major": 2,
              "version_minor": 0
            },
            "text/plain": [
              "Generate report structure:   0%|          | 0/1 [00:00<?, ?it/s]"
            ]
          },
          "metadata": {},
          "output_type": "display_data"
        },
        {
          "data": {
            "application/vnd.jupyter.widget-view+json": {
              "model_id": "55aa5de3f052457fb5553cdff8a75b4d",
              "version_major": 2,
              "version_minor": 0
            },
            "text/plain": [
              "Render HTML:   0%|          | 0/1 [00:00<?, ?it/s]"
            ]
          },
          "metadata": {},
          "output_type": "display_data"
        },
        {
          "data": {
            "application/vnd.jupyter.widget-view+json": {
              "model_id": "6c539ce32d324d1ebfe182f691580bef",
              "version_major": 2,
              "version_minor": 0
            },
            "text/plain": [
              "Export report to file:   0%|          | 0/1 [00:00<?, ?it/s]"
            ]
          },
          "metadata": {},
          "output_type": "display_data"
        }
      ],
      "source": [
        "import pandas_profiling\n",
        "report = pandas_profiling.ProfileReport(data_train)\n",
        "report.to_file('report.html')"
      ]
    },
    {
      "attachments": {},
      "cell_type": "markdown",
      "metadata": {
        "id": "rX281gmMbOkC"
      },
      "source": [
        "### Numerical and Categorical Data"
      ]
    },
    {
      "attachments": {},
      "cell_type": "markdown",
      "metadata": {
        "id": "Q4OD6Tewrlej"
      },
      "source": [
        "Some variables such as : calcium_100g were descarted due to they had high imbalanced data. (This doesn't give any important value for the model)"
      ]
    },
    {
      "cell_type": "code",
      "execution_count": 30,
      "metadata": {
        "id": "622yoMpNcvN-"
      },
      "outputs": [],
      "source": [
        "numerical_set_g = ['carbohydrates_100g','energy_kcal_100g','fat_100g',\n",
        "                 'fiber_100g', 'proteins_100g', 'salt_100g', 'sodium_100g',\n",
        "                 'sugars_100g']\n",
        "\n",
        "numerical_set_eco = ['est_co2_agriculture', 'est_co2_consumption',\n",
        "                 'est_co2_distribution', 'est_co2_packaging',\n",
        "                 'est_co2_processing', 'est_co2_transportation']\n",
        "\n",
        "categorical_set = list(set(data_train.columns).difference(numerical_set_g).difference(numerical_set_eco))"
      ]
    },
    {
      "attachments": {},
      "cell_type": "markdown",
      "metadata": {
        "id": "QVbS0QiuM-wh"
      },
      "source": [
        "### Classes Balance"
      ]
    },
    {
      "cell_type": "code",
      "execution_count": 31,
      "metadata": {
        "colab": {
          "base_uri": "https://localhost:8080/",
          "height": 634
        },
        "id": "NJ-pylctM-wh",
        "outputId": "f41ac795-83cc-4ed5-be0e-476495939888"
      },
      "outputs": [
        {
          "data": {
            "image/png": "[encoded data removed]",
            "text/plain": [
              "<Figure size 700x700 with 1 Axes>"
            ]
          },
          "metadata": {},
          "output_type": "display_data"
        }
      ],
      "source": [
        "plt.figure(figsize=(7, 7))\n",
        "\n",
        "plt.pie(ecoscore_grade.value_counts(), labels=ecoscore_grade.value_counts().index, autopct='%1.1f%%', shadow=True, startangle=90)\n",
        "plt.title('Ecoscore Grade Distribution')\n",
        "\n",
        "plt.show()"
      ]
    },
    {
      "attachments": {},
      "cell_type": "markdown",
      "metadata": {
        "id": "JyHaCAXxM-wh"
      },
      "source": [
        "## XGBoost"
      ]
    },
    {
      "attachments": {},
      "cell_type": "markdown",
      "metadata": {
        "id": "NqRCCj06M-wh"
      },
      "source": [
        "This model is a gradient boosted tree, which is a very powerful model for classification and regression problems. It's getting more and more popular because it is really fast and accurate."
      ]
    },
    {
      "attachments": {},
      "cell_type": "markdown",
      "metadata": {
        "id": "yfSZV5LyhbaW"
      },
      "source": [
        "Given that our test set is not labeled, we will split our train set into train and test set. We will use the test set to evaluate our model."
      ]
    },
    {
      "cell_type": "code",
      "execution_count": 32,
      "metadata": {
        "id": "uI510k4GhdkF"
      },
      "outputs": [],
      "source": [
        "from xgboost import XGBClassifier\n",
        "from sklearn.metrics import f1_score\n",
        "from sklearn.preprocessing import Normalizer, StandardScaler, MinMaxScaler\n",
        "from sklearn.model_selection import train_test_split\n",
        "\n",
        "data_numerical_train = data_train.loc[:,list(numerical_set_eco)]\n",
        "data_numerical_test = data_test.loc[:, list(numerical_set_eco)]\n",
        "\n",
        "data_categorical_train = data_train.loc[:,categorical_set]\n",
        "data_categorical_test = data_test.loc[:,categorical_set]\n",
        "\n",
        "# Concatenating dataframes\n",
        "train = np.concatenate([data_numerical_train, np.array(data_categorical_train)], axis=1)\n",
        "test = np.concatenate([data_numerical_test,np.array(data_categorical_test)], axis=1)"
      ]
    },
    {
      "cell_type": "code",
      "execution_count": 33,
      "metadata": {
        "colab": {
          "base_uri": "https://localhost:8080/"
        },
        "id": "FmOuKRkHaP17",
        "outputId": "9883b7bb-0f5a-48e8-8241-2615a69545d5"
      },
      "outputs": [
        {
          "name": "stdout",
          "output_type": "stream",
          "text": [
            "The F1-score in XGBClassifier is : 0.8526376553409657\n"
          ]
        }
      ],
      "source": [
        "X_train, X_test, y_train, y_test = train_test_split(train, ecoscore_grade, test_size=0.2, random_state=0)\n",
        "X_train, X_test, y_train, y_test = np.array(X_train), np.array(X_test), np.array(y_train), np.array(y_test)\n",
        "\n",
        "# Creation and fitting the XGBClassifier\n",
        "xgb = XGBClassifier(n_jobs=-1)\n",
        "xgb.fit(X_train, y_train)\n",
        "\n",
        "# Predictions\n",
        "y_pred = xgb.predict(X_test)\n",
        "f1 = f1_score(y_test, y_pred, average='weighted')\n",
        "print(f'The F1-score in XGBClassifier is : {f1}')"
      ]
    },
    {
      "cell_type": "code",
      "execution_count": 34,
      "metadata": {
        "colab": {
          "base_uri": "https://localhost:8080/",
          "height": 248
        },
        "id": "Lsekls9NBaUJ",
        "outputId": "25dccc22-f5f7-4f64-bbcf-904a1acd249d"
      },
      "outputs": [
        {
          "data": {
            "text/html": [
              "<style>#sk-container-id-1 {color: black;background-color: white;}#sk-container-id-1 pre{padding: 0;}#sk-container-id-1 div.sk-toggleable {background-color: white;}#sk-container-id-1 label.sk-toggleable__label {cursor: pointer;display: block;width: 100%;margin-bottom: 0;padding: 0.3em;box-sizing: border-box;text-align: center;}#sk-container-id-1 label.sk-toggleable__label-arrow:before {content: \"▸\";float: left;margin-right: 0.25em;color: #696969;}#sk-container-id-1 label.sk-toggleable__label-arrow:hover:before {color: black;}#sk-container-id-1 div.sk-estimator:hover label.sk-toggleable__label-arrow:before {color: black;}#sk-container-id-1 div.sk-toggleable__content {max-height: 0;max-width: 0;overflow: hidden;text-align: left;background-color: #f0f8ff;}#sk-container-id-1 div.sk-toggleable__content pre {margin: 0.2em;color: black;border-radius: 0.25em;background-color: #f0f8ff;}#sk-container-id-1 input.sk-toggleable__control:checked~div.sk-toggleable__content {max-height: 200px;max-width: 100%;overflow: auto;}#sk-container-id-1 input.sk-toggleable__control:checked~label.sk-toggleable__label-arrow:before {content: \"▾\";}#sk-container-id-1 div.sk-estimator input.sk-toggleable__control:checked~label.sk-toggleable__label {background-color: #d4ebff;}#sk-container-id-1 div.sk-label input.sk-toggleable__control:checked~label.sk-toggleable__label {background-color: #d4ebff;}#sk-container-id-1 input.sk-hidden--visually {border: 0;clip: rect(1px 1px 1px 1px);clip: rect(1px, 1px, 1px, 1px);height: 1px;margin: -1px;overflow: hidden;padding: 0;position: absolute;width: 1px;}#sk-container-id-1 div.sk-estimator {font-family: monospace;background-color: #f0f8ff;border: 1px dotted black;border-radius: 0.25em;box-sizing: border-box;margin-bottom: 0.5em;}#sk-container-id-1 div.sk-estimator:hover {background-color: #d4ebff;}#sk-container-id-1 div.sk-parallel-item::after {content: \"\";width: 100%;border-bottom: 1px solid gray;flex-grow: 1;}#sk-container-id-1 div.sk-label:hover label.sk-toggleable__label {background-color: #d4ebff;}#sk-container-id-1 div.sk-serial::before {content: \"\";position: absolute;border-left: 1px solid gray;box-sizing: border-box;top: 0;bottom: 0;left: 50%;z-index: 0;}#sk-container-id-1 div.sk-serial {display: flex;flex-direction: column;align-items: center;background-color: white;padding-right: 0.2em;padding-left: 0.2em;position: relative;}#sk-container-id-1 div.sk-item {position: relative;z-index: 1;}#sk-container-id-1 div.sk-parallel {display: flex;align-items: stretch;justify-content: center;background-color: white;position: relative;}#sk-container-id-1 div.sk-item::before, #sk-container-id-1 div.sk-parallel-item::before {content: \"\";position: absolute;border-left: 1px solid gray;box-sizing: border-box;top: 0;bottom: 0;left: 50%;z-index: -1;}#sk-container-id-1 div.sk-parallel-item {display: flex;flex-direction: column;z-index: 1;position: relative;background-color: white;}#sk-container-id-1 div.sk-parallel-item:first-child::after {align-self: flex-end;width: 50%;}#sk-container-id-1 div.sk-parallel-item:last-child::after {align-self: flex-start;width: 50%;}#sk-container-id-1 div.sk-parallel-item:only-child::after {width: 0;}#sk-container-id-1 div.sk-dashed-wrapped {border: 1px dashed gray;margin: 0 0.4em 0.5em 0.4em;box-sizing: border-box;padding-bottom: 0.4em;background-color: white;}#sk-container-id-1 div.sk-label label {font-family: monospace;font-weight: bold;display: inline-block;line-height: 1.2em;}#sk-container-id-1 div.sk-label-container {text-align: center;}#sk-container-id-1 div.sk-container {/* jupyter's `normalize.less` sets `[hidden] { display: none; }` but bootstrap.min.css set `[hidden] { display: none !important; }` so we also need the `!important` here to be able to override the default hidden behavior on the sphinx rendered scikit-learn.org. See: https://github.com/scikit-learn/scikit-learn/issues/21755 */display: inline-block !important;position: relative;}#sk-container-id-1 div.sk-text-repr-fallback {display: none;}</style><div id=\"sk-container-id-1\" class=\"sk-top-container\"><div class=\"sk-text-repr-fallback\"><pre>XGBClassifier(base_score=None, booster=None, callbacks=None,\n",
              "              colsample_bylevel=None, colsample_bynode=None,\n",
              "              colsample_bytree=None, early_stopping_rounds=None,\n",
              "              enable_categorical=False, eval_metric=None, feature_types=None,\n",
              "              gamma=None, gpu_id=None, grow_policy=None, importance_type=None,\n",
              "              interaction_constraints=None, learning_rate=None, max_bin=None,\n",
              "              max_cat_threshold=None, max_cat_to_onehot=None,\n",
              "              max_delta_step=None, max_depth=None, max_leaves=None,\n",
              "              min_child_weight=None, missing=nan, monotone_constraints=None,\n",
              "              n_estimators=100, n_jobs=-1, num_parallel_tree=None,\n",
              "              objective=&#x27;multi:softprob&#x27;, predictor=None, ...)</pre><b>In a Jupyter environment, please rerun this cell to show the HTML representation or trust the notebook. <br />On GitHub, the HTML representation is unable to render, please try loading this page with nbviewer.org.</b></div><div class=\"sk-container\" hidden><div class=\"sk-item\"><div class=\"sk-estimator sk-toggleable\"><input class=\"sk-toggleable__control sk-hidden--visually\" id=\"sk-estimator-id-1\" type=\"checkbox\" checked><label for=\"sk-estimator-id-1\" class=\"sk-toggleable__label sk-toggleable__label-arrow\">XGBClassifier</label><div class=\"sk-toggleable__content\"><pre>XGBClassifier(base_score=None, booster=None, callbacks=None,\n",
              "              colsample_bylevel=None, colsample_bynode=None,\n",
              "              colsample_bytree=None, early_stopping_rounds=None,\n",
              "              enable_categorical=False, eval_metric=None, feature_types=None,\n",
              "              gamma=None, gpu_id=None, grow_policy=None, importance_type=None,\n",
              "              interaction_constraints=None, learning_rate=None, max_bin=None,\n",
              "              max_cat_threshold=None, max_cat_to_onehot=None,\n",
              "              max_delta_step=None, max_depth=None, max_leaves=None,\n",
              "              min_child_weight=None, missing=nan, monotone_constraints=None,\n",
              "              n_estimators=100, n_jobs=-1, num_parallel_tree=None,\n",
              "              objective=&#x27;multi:softprob&#x27;, predictor=None, ...)</pre></div></div></div></div></div>"
            ],
            "text/plain": [
              "XGBClassifier(base_score=None, booster=None, callbacks=None,\n",
              "              colsample_bylevel=None, colsample_bynode=None,\n",
              "              colsample_bytree=None, early_stopping_rounds=None,\n",
              "              enable_categorical=False, eval_metric=None, feature_types=None,\n",
              "              gamma=None, gpu_id=None, grow_policy=None, importance_type=None,\n",
              "              interaction_constraints=None, learning_rate=None, max_bin=None,\n",
              "              max_cat_threshold=None, max_cat_to_onehot=None,\n",
              "              max_delta_step=None, max_depth=None, max_leaves=None,\n",
              "              min_child_weight=None, missing=nan, monotone_constraints=None,\n",
              "              n_estimators=100, n_jobs=-1, num_parallel_tree=None,\n",
              "              objective='multi:softprob', predictor=None, ...)"
            ]
          },
          "execution_count": 34,
          "metadata": {},
          "output_type": "execute_result"
        }
      ],
      "source": [
        "xgb = XGBClassifier(n_jobs=-1)\n",
        "xgb.fit(data_train, ecoscore_grade)"
      ]
    },
    {
      "cell_type": "code",
      "execution_count": 35,
      "metadata": {
        "colab": {
          "base_uri": "https://localhost:8080/"
        },
        "id": "_QIqT_1K1ySo",
        "outputId": "8396a208-8342-4ddf-d61e-07813688fc01"
      },
      "outputs": [
        {
          "data": {
            "text/plain": [
              "array([1, 2, 1, ..., 1, 3, 1])"
            ]
          },
          "execution_count": 35,
          "metadata": {},
          "output_type": "execute_result"
        }
      ],
      "source": [
        "y_pred_test = xgb.predict(data_test)\n",
        "y_pred_test"
      ]
    },
    {
      "cell_type": "code",
      "execution_count": 36,
      "metadata": {
        "id": "6qU3YMyOM-wi"
      },
      "outputs": [],
      "source": [
        "string = '{\"target\" : {'\n",
        "counter = 0\n",
        "for y in y_pred_test:\n",
        "    string += f'\"{counter}\" : {y},'\n",
        "    counter += 1\n",
        "string += '} }'\n",
        "\n",
        "with open('predictions.json', 'w') as file:\n",
        "    file.write(string)"
      ]
    },
    {
      "attachments": {},
      "cell_type": "markdown",
      "metadata": {
        "id": "sTzmaePyUamd"
      },
      "source": [
        "## Feedforward Neural Network\n",
        "\n",
        "As our data is sequencial and we only have this tabulated information I decided to work with this type of neural network as it is one of the simpliests."
      ]
    },
    {
      "cell_type": "code",
      "execution_count": 37,
      "metadata": {
        "id": "g87DF5XOH3SX"
      },
      "outputs": [],
      "source": [
        "new_dt = data_train.drop('main_ingredient', axis=1)\n",
        "new_test_dt = data_test.drop('main_ingredient', axis=1)\n",
        "#new_dt = data_train.drop('main_category', axis=1)\n",
        "#new_test_dt = data_test.drop('main_category', axis=1)\n",
        "\n",
        "X_train, X_test, y_train, y_test = train_test_split(new_dt, ecoscore_grade, test_size=0.2, random_state=42)\n",
        "X_train, X_test, y_train, y_test = np.array(X_train), np.array(X_test), np.array(y_train), np.array(y_test)"
      ]
    },
    {
      "cell_type": "code",
      "execution_count": 38,
      "metadata": {
        "colab": {
          "base_uri": "https://localhost:8080/"
        },
        "id": "70iBGWDpUaGb",
        "outputId": "ffee5da7-9672-45db-c8a3-5b928cb8f0ae"
      },
      "outputs": [
        {
          "name": "stdout",
          "output_type": "stream",
          "text": [
            "{0: 2.6883870967741936, 1: 0.6479300291545189, 2: 1.166410076976907, 3: 0.6890450599421248, 4: 1.288596830305373}\n"
          ]
        }
      ],
      "source": [
        "from sklearn.utils.class_weight import compute_class_weight\n",
        "\n",
        "class_weights = compute_class_weight(class_weight='balanced', classes=np.unique(y_train), y=y_train)\n",
        "weights = {i: class_weights[i] for i in range(0,5)}\n",
        "print(weights)"
      ]
    },
    {
      "cell_type": "code",
      "execution_count": 39,
      "metadata": {
        "colab": {
          "base_uri": "https://localhost:8080/"
        },
        "id": "xmENsBL5l_WQ",
        "outputId": "fa04b6c7-2e89-4157-ab2c-2893d95e7f83"
      },
      "outputs": [
        {
          "name": "stdout",
          "output_type": "stream",
          "text": [
            "Model: \"model\"\n",
            "_________________________________________________________________\n",
            " Layer (type)                Output Shape              Param #   \n",
            "=================================================================\n",
            " input_1 (InputLayer)        [(None, 77)]              0         \n",
            "                                                                 \n",
            " dense (Dense)               (None, 11000)             858000    \n",
            "                                                                 \n",
            " dense_1 (Dense)             (None, 11000)             121011000 \n",
            "                                                                 \n",
            " dense_2 (Dense)             (None, 11000)             121011000 \n",
            "                                                                 \n",
            " dense_3 (Dense)             (None, 5)                 55005     \n",
            "                                                                 \n",
            "=================================================================\n",
            "Total params: 242,935,005\n",
            "Trainable params: 242,935,005\n",
            "Non-trainable params: 0\n",
            "_________________________________________________________________\n"
          ]
        }
      ],
      "source": [
        "import tensorflow as tf\n",
        "from tensorflow.keras.layers import Input, Dense\n",
        "from tensorflow.keras.models import Model\n",
        "from tensorflow.keras.utils import to_categorical\n",
        "\n",
        "# Convert the target variable to one-hot encoded format\n",
        "y_train_encoded = to_categorical(y_train, num_classes=5)\n",
        "\n",
        "# Define the input shape\n",
        "input_shape = X_train.shape[1:]\n",
        "\n",
        "# Input layer\n",
        "input_layer = Input(shape=input_shape)\n",
        "\n",
        "# Hidden layers\n",
        "neurons = 11000\n",
        "d1 = Dense(units=neurons, activation='relu')(input_layer)\n",
        "d2 = Dense(units=neurons, activation='relu')(d1)\n",
        "d3 = Dense(units=neurons, activation='relu')(d2)\n",
        "\n",
        "# Output layer\n",
        "output_layer = Dense(5, activation='softmax')(d3)\n",
        "\n",
        "# Create the model\n",
        "model = Model(inputs=input_layer, outputs=output_layer)\n",
        "\n",
        "# Metrics\n",
        "METRICS = ['accuracy',\n",
        "          tf.keras.metrics.Precision(name='precision'),\n",
        "          tf.keras.metrics.Recall(name='recall')]\n",
        "\n",
        "# Compiling the model\n",
        "model.compile(\n",
        "    optimizer=tf.keras.optimizers.Adam(learning_rate=0.0001),\n",
        "    loss='categorical_crossentropy',\n",
        "    metrics=METRICS\n",
        "    )\n",
        "\n",
        "# Print the model summary\n",
        "model.summary()"
      ]
    },
    {
      "cell_type": "code",
      "execution_count": 40,
      "metadata": {
        "colab": {
          "base_uri": "https://localhost:8080/"
        },
        "id": "l52LM7mHbv9H",
        "outputId": "9a590437-50a4-4c0c-8346-2e7f0322fa17"
      },
      "outputs": [
        {
          "name": "stdout",
          "output_type": "stream",
          "text": [
            "Training...\n",
            "Epoch 1/30\n",
            "521/521 [==============================] - 31s 53ms/step - loss: 0.9232 - accuracy: 0.5937 - precision: 0.6771 - recall: 0.4566\n",
            "Epoch 2/30\n",
            "521/521 [==============================] - 28s 53ms/step - loss: 0.7690 - accuracy: 0.6747 - precision: 0.7168 - recall: 0.6087\n",
            "Epoch 3/30\n",
            "521/521 [==============================] - 28s 54ms/step - loss: 0.7199 - accuracy: 0.6982 - precision: 0.7355 - recall: 0.6450\n",
            "Epoch 4/30\n",
            "521/521 [==============================] - 28s 53ms/step - loss: 0.6926 - accuracy: 0.7077 - precision: 0.7424 - recall: 0.6503\n",
            "Epoch 5/30\n",
            "521/521 [==============================] - 29s 55ms/step - loss: 0.6610 - accuracy: 0.7147 - precision: 0.7576 - recall: 0.6556\n",
            "Epoch 6/30\n",
            "521/521 [==============================] - 29s 55ms/step - loss: 0.6309 - accuracy: 0.7264 - precision: 0.7676 - recall: 0.6663\n",
            "Epoch 7/30\n",
            "521/521 [==============================] - 28s 53ms/step - loss: 0.6041 - accuracy: 0.7369 - precision: 0.7767 - recall: 0.6808\n",
            "Epoch 8/30\n",
            "521/521 [==============================] - 28s 53ms/step - loss: 0.5760 - accuracy: 0.7505 - precision: 0.7854 - recall: 0.6998\n",
            "Epoch 9/30\n",
            "521/521 [==============================] - 28s 54ms/step - loss: 0.5570 - accuracy: 0.7561 - precision: 0.7872 - recall: 0.7139\n",
            "Epoch 10/30\n",
            "521/521 [==============================] - 28s 53ms/step - loss: 0.5364 - accuracy: 0.7653 - precision: 0.7922 - recall: 0.7295\n",
            "Epoch 11/30\n",
            "521/521 [==============================] - 28s 53ms/step - loss: 0.5142 - accuracy: 0.7769 - precision: 0.7995 - recall: 0.7453\n",
            "Epoch 12/30\n",
            "521/521 [==============================] - 28s 53ms/step - loss: 0.4945 - accuracy: 0.7884 - precision: 0.8099 - recall: 0.7596\n",
            "Epoch 13/30\n",
            "521/521 [==============================] - 28s 53ms/step - loss: 0.4793 - accuracy: 0.7943 - precision: 0.8113 - recall: 0.7686\n",
            "Epoch 14/30\n",
            "521/521 [==============================] - 28s 53ms/step - loss: 0.4617 - accuracy: 0.8029 - precision: 0.8183 - recall: 0.7811\n",
            "Epoch 15/30\n",
            "521/521 [==============================] - 28s 53ms/step - loss: 0.4505 - accuracy: 0.8070 - precision: 0.8213 - recall: 0.7868\n",
            "Epoch 16/30\n",
            "521/521 [==============================] - 28s 54ms/step - loss: 0.4369 - accuracy: 0.8147 - precision: 0.8265 - recall: 0.7973\n",
            "Epoch 17/30\n",
            "521/521 [==============================] - 28s 53ms/step - loss: 0.4238 - accuracy: 0.8170 - precision: 0.8285 - recall: 0.8006\n",
            "Epoch 18/30\n",
            "521/521 [==============================] - 28s 53ms/step - loss: 0.4179 - accuracy: 0.8185 - precision: 0.8297 - recall: 0.8047\n",
            "Epoch 19/30\n",
            "521/521 [==============================] - 28s 53ms/step - loss: 0.4044 - accuracy: 0.8236 - precision: 0.8328 - recall: 0.8094\n",
            "Epoch 20/30\n",
            "521/521 [==============================] - 28s 53ms/step - loss: 0.3977 - accuracy: 0.8252 - precision: 0.8347 - recall: 0.8132\n",
            "Epoch 21/30\n",
            "521/521 [==============================] - 28s 53ms/step - loss: 0.3883 - accuracy: 0.8323 - precision: 0.8419 - recall: 0.8210\n",
            "Epoch 22/30\n",
            "521/521 [==============================] - 28s 53ms/step - loss: 0.3843 - accuracy: 0.8303 - precision: 0.8386 - recall: 0.8185\n",
            "Epoch 23/30\n",
            "521/521 [==============================] - 28s 53ms/step - loss: 0.3728 - accuracy: 0.8335 - precision: 0.8419 - recall: 0.8222\n",
            "Epoch 24/30\n",
            "521/521 [==============================] - 28s 53ms/step - loss: 0.3684 - accuracy: 0.8398 - precision: 0.8488 - recall: 0.8284\n",
            "Epoch 25/30\n",
            "521/521 [==============================] - 29s 55ms/step - loss: 0.3625 - accuracy: 0.8438 - precision: 0.8491 - recall: 0.8333\n",
            "Epoch 26/30\n",
            "521/521 [==============================] - 28s 54ms/step - loss: 0.3556 - accuracy: 0.8429 - precision: 0.8500 - recall: 0.8338\n",
            "Epoch 27/30\n",
            "521/521 [==============================] - 28s 53ms/step - loss: 0.3522 - accuracy: 0.8434 - precision: 0.8505 - recall: 0.8342\n",
            "Epoch 28/30\n",
            "521/521 [==============================] - 28s 53ms/step - loss: 0.3454 - accuracy: 0.8483 - precision: 0.8542 - recall: 0.8394\n",
            "Epoch 29/30\n",
            "521/521 [==============================] - 28s 53ms/step - loss: 0.3372 - accuracy: 0.8498 - precision: 0.8557 - recall: 0.8425\n",
            "Epoch 30/30\n",
            "521/521 [==============================] - 28s 53ms/step - loss: 0.3383 - accuracy: 0.8506 - precision: 0.8568 - recall: 0.8416\n",
            "Training Process Finished\n"
          ]
        }
      ],
      "source": [
        "# Fitting\n",
        "print('Training...')\n",
        "history = model.fit(\n",
        "    X_train,\n",
        "    y_train_encoded,\n",
        "    epochs=30,\n",
        "    class_weight = weights\n",
        ")\n",
        "print('Training Process Finished')"
      ]
    },
    {
      "cell_type": "code",
      "execution_count": 41,
      "metadata": {
        "colab": {
          "base_uri": "https://localhost:8080/"
        },
        "id": "yFRSm6KwnLoC",
        "outputId": "9a03b59e-1a3c-4e5a-a793-f0e766f1f8fb"
      },
      "outputs": [
        {
          "name": "stdout",
          "output_type": "stream",
          "text": [
            "131/131 [==============================] - 2s 9ms/step - loss: 0.5352 - accuracy: 0.8073 - precision: 0.8123 - recall: 0.8006\n",
            "Test F1-score: 0.8063814364242025\n"
          ]
        }
      ],
      "source": [
        "# Convert the target variable to one-hot encoded format\n",
        "y_test_encoded = to_categorical(y_test, num_classes=5)\n",
        "\n",
        "# Evaluate the model on the test set\n",
        "test_loss, test_accuracy, test_precision, test_recall = model.evaluate(X_test, y_test_encoded)\n",
        "\n",
        "# Compute F1-score manually\n",
        "test_f1 = 2 * (test_precision * test_recall) / (test_precision + test_recall)\n",
        "\n",
        "print(\"Test F1-score:\", test_f1)"
      ]
    },
    {
      "cell_type": "code",
      "execution_count": 42,
      "metadata": {
        "colab": {
          "base_uri": "https://localhost:8080/",
          "height": 329
        },
        "id": "b4Gm-dIedBoO",
        "outputId": "5f1cdcc6-7c66-44f7-d2dc-0b61f6913ad1"
      },
      "outputs": [
        {
          "data": {
            "image/png": "[encoded data removed]",
            "text/plain": [
              "<Figure size 1500x500 with 2 Axes>"
            ]
          },
          "metadata": {},
          "output_type": "display_data"
        }
      ],
      "source": [
        "plt.rcParams['figure.figsize'] = (15,5)\n",
        "\n",
        "fig, ax = plt.subplots(1,2)\n",
        "\n",
        "ax[0].set_xlabel(\"# Epoch\")\n",
        "ax[0].set_ylabel('Categorical Crossentropy')\n",
        "#ax[0].plot(history.history['val_loss'])\n",
        "ax[0].plot(history.history['loss'])\n",
        "ax[0].set_title('Loss')\n",
        "ax[0].legend(['train', 'val'])\n",
        "\n",
        "ax[1].set_xlabel(\"# Epoch\")\n",
        "ax[1].set_ylabel('Accuracy')\n",
        "#ax[1].plot(history.history['val_accuracy'])\n",
        "ax[1].plot(history.history['accuracy'])\n",
        "ax[1].set_title('Accuracy')\n",
        "ax[1].legend(['train', 'val'])\n",
        "\n",
        "plt.show()"
      ]
    },
    {
      "cell_type": "code",
      "execution_count": 43,
      "metadata": {
        "colab": {
          "base_uri": "https://localhost:8080/"
        },
        "id": "yerpLpCTqTP9",
        "outputId": "0830d8b5-259b-4e3d-909b-148f0668fb74"
      },
      "outputs": [
        {
          "name": "stdout",
          "output_type": "stream",
          "text": [
            "40/40 [==============================] - 0s 6ms/step\n"
          ]
        }
      ],
      "source": [
        "predictions = model.predict(new_test_dt)\n",
        "y_pred = [np.argmax(pred) for pred in predictions]"
      ]
    },
    {
      "cell_type": "code",
      "execution_count": 44,
      "metadata": {
        "id": "oNQ59H2GqwU4"
      },
      "outputs": [],
      "source": [
        "string = '{\"target\" : {'\n",
        "counter = 0\n",
        "for i in y_pred:\n",
        "    string += f'\"{counter}\" : {i},'\n",
        "    counter += 1\n",
        "string += '} }'\n",
        "\n",
        "with open('predictions_nn.json', 'w') as file:\n",
        "    file.write(string)"
      ]
    }
  ],
  "metadata": {
    "accelerator": "GPU",
    "colab": {
      "gpuType": "T4",
      "provenance": []
    },
    "kernelspec": {
      "display_name": "Python 3",
      "name": "python3"
    },
    "language_info": {
      "codemirror_mode": {
        "name": "ipython",
        "version": 3
      },
      "file_extension": ".py",
      "mimetype": "text/x-python",
      "name": "python",
      "nbconvert_exporter": "python",
      "pygments_lexer": "ipython3",
      "version": "3.10.11"
    },
    "widgets": {
      "application/vnd.jupyter.widget-state+json": {
        "08ccea19439b4b5b94611651569c7c5b": {
          "model_module": "@jupyter-widgets/controls",
          "model_module_version": "1.5.0",
          "model_name": "HTMLModel",
          "state": {
            "_dom_classes": [],
            "_model_module": "@jupyter-widgets/controls",
            "_model_module_version": "1.5.0",
            "_model_name": "HTMLModel",
            "_view_count": null,
            "_view_module": "@jupyter-widgets/controls",
            "_view_module_version": "1.5.0",
            "_view_name": "HTMLView",
            "description": "",
            "description_tooltip": null,
            "layout": "IPY_MODEL_cb18849b0544438198f28825b64395aa",
            "placeholder": "​",
            "style": "IPY_MODEL_89af632685a44f8e8d10570c48838282",
            "value": " 1/1 [00:04&lt;00:00,  4.52s/it]"
          }
        },
        "0a5c1dc555854589b1432a808c651209": {
          "model_module": "@jupyter-widgets/base",
          "model_module_version": "1.2.0",
          "model_name": "LayoutModel",
          "state": {
            "_model_module": "@jupyter-widgets/base",
            "_model_module_version": "1.2.0",
            "_model_name": "LayoutModel",
            "_view_count": null,
            "_view_module": "@jupyter-widgets/base",
            "_view_module_version": "1.2.0",
            "_view_name": "LayoutView",
            "align_content": null,
            "align_items": null,
            "align_self": null,
            "border": null,
            "bottom": null,
            "display": null,
            "flex": null,
            "flex_flow": null,
            "grid_area": null,
            "grid_auto_columns": null,
            "grid_auto_flow": null,
            "grid_auto_rows": null,
            "grid_column": null,
            "grid_gap": null,
            "grid_row": null,
            "grid_template_areas": null,
            "grid_template_columns": null,
            "grid_template_rows": null,
            "height": null,
            "justify_content": null,
            "justify_items": null,
            "left": null,
            "margin": null,
            "max_height": null,
            "max_width": null,
            "min_height": null,
            "min_width": null,
            "object_fit": null,
            "object_position": null,
            "order": null,
            "overflow": null,
            "overflow_x": null,
            "overflow_y": null,
            "padding": null,
            "right": null,
            "top": null,
            "visibility": null,
            "width": null
          }
        },
        "0be5ee857f804c4c97fea8858604599d": {
          "model_module": "@jupyter-widgets/controls",
          "model_module_version": "1.5.0",
          "model_name": "ProgressStyleModel",
          "state": {
            "_model_module": "@jupyter-widgets/controls",
            "_model_module_version": "1.5.0",
            "_model_name": "ProgressStyleModel",
            "_view_count": null,
            "_view_module": "@jupyter-widgets/base",
            "_view_module_version": "1.2.0",
            "_view_name": "StyleView",
            "bar_color": null,
            "description_width": ""
          }
        },
        "0fa0fd65bd514fc59d50c8ce5d0cdeef": {
          "model_module": "@jupyter-widgets/base",
          "model_module_version": "1.2.0",
          "model_name": "LayoutModel",
          "state": {
            "_model_module": "@jupyter-widgets/base",
            "_model_module_version": "1.2.0",
            "_model_name": "LayoutModel",
            "_view_count": null,
            "_view_module": "@jupyter-widgets/base",
            "_view_module_version": "1.2.0",
            "_view_name": "LayoutView",
            "align_content": null,
            "align_items": null,
            "align_self": null,
            "border": null,
            "bottom": null,
            "display": null,
            "flex": null,
            "flex_flow": null,
            "grid_area": null,
            "grid_auto_columns": null,
            "grid_auto_flow": null,
            "grid_auto_rows": null,
            "grid_column": null,
            "grid_gap": null,
            "grid_row": null,
            "grid_template_areas": null,
            "grid_template_columns": null,
            "grid_template_rows": null,
            "height": null,
            "justify_content": null,
            "justify_items": null,
            "left": null,
            "margin": null,
            "max_height": null,
            "max_width": null,
            "min_height": null,
            "min_width": null,
            "object_fit": null,
            "object_position": null,
            "order": null,
            "overflow": null,
            "overflow_x": null,
            "overflow_y": null,
            "padding": null,
            "right": null,
            "top": null,
            "visibility": null,
            "width": null
          }
        },
        "12520ffc55e44135acca63fad28edc98": {
          "model_module": "@jupyter-widgets/base",
          "model_module_version": "1.2.0",
          "model_name": "LayoutModel",
          "state": {
            "_model_module": "@jupyter-widgets/base",
            "_model_module_version": "1.2.0",
            "_model_name": "LayoutModel",
            "_view_count": null,
            "_view_module": "@jupyter-widgets/base",
            "_view_module_version": "1.2.0",
            "_view_name": "LayoutView",
            "align_content": null,
            "align_items": null,
            "align_self": null,
            "border": null,
            "bottom": null,
            "display": null,
            "flex": null,
            "flex_flow": null,
            "grid_area": null,
            "grid_auto_columns": null,
            "grid_auto_flow": null,
            "grid_auto_rows": null,
            "grid_column": null,
            "grid_gap": null,
            "grid_row": null,
            "grid_template_areas": null,
            "grid_template_columns": null,
            "grid_template_rows": null,
            "height": null,
            "justify_content": null,
            "justify_items": null,
            "left": null,
            "margin": null,
            "max_height": null,
            "max_width": null,
            "min_height": null,
            "min_width": null,
            "object_fit": null,
            "object_position": null,
            "order": null,
            "overflow": null,
            "overflow_x": null,
            "overflow_y": null,
            "padding": null,
            "right": null,
            "top": null,
            "visibility": null,
            "width": null
          }
        },
        "1386d5784888416482637f9b96adc4a7": {
          "model_module": "@jupyter-widgets/controls",
          "model_module_version": "1.5.0",
          "model_name": "HTMLModel",
          "state": {
            "_dom_classes": [],
            "_model_module": "@jupyter-widgets/controls",
            "_model_module_version": "1.5.0",
            "_model_name": "HTMLModel",
            "_view_count": null,
            "_view_module": "@jupyter-widgets/controls",
            "_view_module_version": "1.5.0",
            "_view_name": "HTMLView",
            "description": "",
            "description_tooltip": null,
            "layout": "IPY_MODEL_eb62a5d60bf144a7ab28a469a8536585",
            "placeholder": "​",
            "style": "IPY_MODEL_a50ce01154d84fc1b979e484b1814047",
            "value": "Render HTML: 100%"
          }
        },
        "13bff51baac54bf489b72729376f43ad": {
          "model_module": "@jupyter-widgets/controls",
          "model_module_version": "1.5.0",
          "model_name": "HTMLModel",
          "state": {
            "_dom_classes": [],
            "_model_module": "@jupyter-widgets/controls",
            "_model_module_version": "1.5.0",
            "_model_name": "HTMLModel",
            "_view_count": null,
            "_view_module": "@jupyter-widgets/controls",
            "_view_module_version": "1.5.0",
            "_view_name": "HTMLView",
            "description": "",
            "description_tooltip": null,
            "layout": "IPY_MODEL_0fa0fd65bd514fc59d50c8ce5d0cdeef",
            "placeholder": "​",
            "style": "IPY_MODEL_f07347362944400a8d293976a1561552",
            "value": "Generate report structure: 100%"
          }
        },
        "21bd695ac78447f4a600362360fdde21": {
          "model_module": "@jupyter-widgets/controls",
          "model_module_version": "1.5.0",
          "model_name": "FloatProgressModel",
          "state": {
            "_dom_classes": [],
            "_model_module": "@jupyter-widgets/controls",
            "_model_module_version": "1.5.0",
            "_model_name": "FloatProgressModel",
            "_view_count": null,
            "_view_module": "@jupyter-widgets/controls",
            "_view_module_version": "1.5.0",
            "_view_name": "ProgressView",
            "bar_style": "success",
            "description": "",
            "description_tooltip": null,
            "layout": "IPY_MODEL_12520ffc55e44135acca63fad28edc98",
            "max": 1,
            "min": 0,
            "orientation": "horizontal",
            "style": "IPY_MODEL_0be5ee857f804c4c97fea8858604599d",
            "value": 1
          }
        },
        "24422ac4a31f4468bee764eb914dac01": {
          "model_module": "@jupyter-widgets/base",
          "model_module_version": "1.2.0",
          "model_name": "LayoutModel",
          "state": {
            "_model_module": "@jupyter-widgets/base",
            "_model_module_version": "1.2.0",
            "_model_name": "LayoutModel",
            "_view_count": null,
            "_view_module": "@jupyter-widgets/base",
            "_view_module_version": "1.2.0",
            "_view_name": "LayoutView",
            "align_content": null,
            "align_items": null,
            "align_self": null,
            "border": null,
            "bottom": null,
            "display": null,
            "flex": null,
            "flex_flow": null,
            "grid_area": null,
            "grid_auto_columns": null,
            "grid_auto_flow": null,
            "grid_auto_rows": null,
            "grid_column": null,
            "grid_gap": null,
            "grid_row": null,
            "grid_template_areas": null,
            "grid_template_columns": null,
            "grid_template_rows": null,
            "height": null,
            "justify_content": null,
            "justify_items": null,
            "left": null,
            "margin": null,
            "max_height": null,
            "max_width": null,
            "min_height": null,
            "min_width": null,
            "object_fit": null,
            "object_position": null,
            "order": null,
            "overflow": null,
            "overflow_x": null,
            "overflow_y": null,
            "padding": null,
            "right": null,
            "top": null,
            "visibility": null,
            "width": null
          }
        },
        "25c87eafb7354db592902d395734971b": {
          "model_module": "@jupyter-widgets/controls",
          "model_module_version": "1.5.0",
          "model_name": "HTMLModel",
          "state": {
            "_dom_classes": [],
            "_model_module": "@jupyter-widgets/controls",
            "_model_module_version": "1.5.0",
            "_model_name": "HTMLModel",
            "_view_count": null,
            "_view_module": "@jupyter-widgets/controls",
            "_view_module_version": "1.5.0",
            "_view_name": "HTMLView",
            "description": "",
            "description_tooltip": null,
            "layout": "IPY_MODEL_24422ac4a31f4468bee764eb914dac01",
            "placeholder": "​",
            "style": "IPY_MODEL_959cb7f748584f65ab7e2812d35509ce",
            "value": "Summarize dataset: 100%"
          }
        },
        "27e803337f0446c5bc8443189c1bb304": {
          "model_module": "@jupyter-widgets/controls",
          "model_module_version": "1.5.0",
          "model_name": "HBoxModel",
          "state": {
            "_dom_classes": [],
            "_model_module": "@jupyter-widgets/controls",
            "_model_module_version": "1.5.0",
            "_model_name": "HBoxModel",
            "_view_count": null,
            "_view_module": "@jupyter-widgets/controls",
            "_view_module_version": "1.5.0",
            "_view_name": "HBoxView",
            "box_style": "",
            "children": [
              "IPY_MODEL_13bff51baac54bf489b72729376f43ad",
              "IPY_MODEL_5af4330472394fd0a6f07f8f53038203",
              "IPY_MODEL_4a921aadfa0349ac859e54933f5eb15e"
            ],
            "layout": "IPY_MODEL_cac1566d20e441ca82385a06cdf0ccb8"
          }
        },
        "30d6b9f2369b4e66bfdf536382b55fb3": {
          "model_module": "@jupyter-widgets/controls",
          "model_module_version": "1.5.0",
          "model_name": "ProgressStyleModel",
          "state": {
            "_model_module": "@jupyter-widgets/controls",
            "_model_module_version": "1.5.0",
            "_model_name": "ProgressStyleModel",
            "_view_count": null,
            "_view_module": "@jupyter-widgets/base",
            "_view_module_version": "1.2.0",
            "_view_name": "StyleView",
            "bar_color": null,
            "description_width": ""
          }
        },
        "31b0761eeb5548f0be75f121c01f9904": {
          "model_module": "@jupyter-widgets/base",
          "model_module_version": "1.2.0",
          "model_name": "LayoutModel",
          "state": {
            "_model_module": "@jupyter-widgets/base",
            "_model_module_version": "1.2.0",
            "_model_name": "LayoutModel",
            "_view_count": null,
            "_view_module": "@jupyter-widgets/base",
            "_view_module_version": "1.2.0",
            "_view_name": "LayoutView",
            "align_content": null,
            "align_items": null,
            "align_self": null,
            "border": null,
            "bottom": null,
            "display": null,
            "flex": null,
            "flex_flow": null,
            "grid_area": null,
            "grid_auto_columns": null,
            "grid_auto_flow": null,
            "grid_auto_rows": null,
            "grid_column": null,
            "grid_gap": null,
            "grid_row": null,
            "grid_template_areas": null,
            "grid_template_columns": null,
            "grid_template_rows": null,
            "height": null,
            "justify_content": null,
            "justify_items": null,
            "left": null,
            "margin": null,
            "max_height": null,
            "max_width": null,
            "min_height": null,
            "min_width": null,
            "object_fit": null,
            "object_position": null,
            "order": null,
            "overflow": null,
            "overflow_x": null,
            "overflow_y": null,
            "padding": null,
            "right": null,
            "top": null,
            "visibility": null,
            "width": null
          }
        },
        "3a8a8b4ca1b3427fb165c4b8be3815ea": {
          "model_module": "@jupyter-widgets/base",
          "model_module_version": "1.2.0",
          "model_name": "LayoutModel",
          "state": {
            "_model_module": "@jupyter-widgets/base",
            "_model_module_version": "1.2.0",
            "_model_name": "LayoutModel",
            "_view_count": null,
            "_view_module": "@jupyter-widgets/base",
            "_view_module_version": "1.2.0",
            "_view_name": "LayoutView",
            "align_content": null,
            "align_items": null,
            "align_self": null,
            "border": null,
            "bottom": null,
            "display": null,
            "flex": null,
            "flex_flow": null,
            "grid_area": null,
            "grid_auto_columns": null,
            "grid_auto_flow": null,
            "grid_auto_rows": null,
            "grid_column": null,
            "grid_gap": null,
            "grid_row": null,
            "grid_template_areas": null,
            "grid_template_columns": null,
            "grid_template_rows": null,
            "height": null,
            "justify_content": null,
            "justify_items": null,
            "left": null,
            "margin": null,
            "max_height": null,
            "max_width": null,
            "min_height": null,
            "min_width": null,
            "object_fit": null,
            "object_position": null,
            "order": null,
            "overflow": null,
            "overflow_x": null,
            "overflow_y": null,
            "padding": null,
            "right": null,
            "top": null,
            "visibility": null,
            "width": null
          }
        },
        "3daba5fba40741f4984ea922bedf383e": {
          "model_module": "@jupyter-widgets/controls",
          "model_module_version": "1.5.0",
          "model_name": "FloatProgressModel",
          "state": {
            "_dom_classes": [],
            "_model_module": "@jupyter-widgets/controls",
            "_model_module_version": "1.5.0",
            "_model_name": "FloatProgressModel",
            "_view_count": null,
            "_view_module": "@jupyter-widgets/controls",
            "_view_module_version": "1.5.0",
            "_view_name": "ProgressView",
            "bar_style": "success",
            "description": "",
            "description_tooltip": null,
            "layout": "IPY_MODEL_76f187e3a1dc4cb5b0e9b905e926968d",
            "max": 1,
            "min": 0,
            "orientation": "horizontal",
            "style": "IPY_MODEL_30d6b9f2369b4e66bfdf536382b55fb3",
            "value": 1
          }
        },
        "49e7077c1c0f4a4a83ef04655b75b0c3": {
          "model_module": "@jupyter-widgets/controls",
          "model_module_version": "1.5.0",
          "model_name": "FloatProgressModel",
          "state": {
            "_dom_classes": [],
            "_model_module": "@jupyter-widgets/controls",
            "_model_module_version": "1.5.0",
            "_model_name": "FloatProgressModel",
            "_view_count": null,
            "_view_module": "@jupyter-widgets/controls",
            "_view_module_version": "1.5.0",
            "_view_name": "ProgressView",
            "bar_style": "success",
            "description": "",
            "description_tooltip": null,
            "layout": "IPY_MODEL_3a8a8b4ca1b3427fb165c4b8be3815ea",
            "max": 5,
            "min": 0,
            "orientation": "horizontal",
            "style": "IPY_MODEL_85aaa12b9d81447f8034d944171bea3c",
            "value": 5
          }
        },
        "4a921aadfa0349ac859e54933f5eb15e": {
          "model_module": "@jupyter-widgets/controls",
          "model_module_version": "1.5.0",
          "model_name": "HTMLModel",
          "state": {
            "_dom_classes": [],
            "_model_module": "@jupyter-widgets/controls",
            "_model_module_version": "1.5.0",
            "_model_name": "HTMLModel",
            "_view_count": null,
            "_view_module": "@jupyter-widgets/controls",
            "_view_module_version": "1.5.0",
            "_view_name": "HTMLView",
            "description": "",
            "description_tooltip": null,
            "layout": "IPY_MODEL_879f13be65f049f9b47b0a92c56ad3de",
            "placeholder": "​",
            "style": "IPY_MODEL_f29ccc03123541e9850e374604f86b99",
            "value": " 1/1 [00:36&lt;00:00, 36.52s/it]"
          }
        },
        "55aa5de3f052457fb5553cdff8a75b4d": {
          "model_module": "@jupyter-widgets/controls",
          "model_module_version": "1.5.0",
          "model_name": "HBoxModel",
          "state": {
            "_dom_classes": [],
            "_model_module": "@jupyter-widgets/controls",
            "_model_module_version": "1.5.0",
            "_model_name": "HBoxModel",
            "_view_count": null,
            "_view_module": "@jupyter-widgets/controls",
            "_view_module_version": "1.5.0",
            "_view_name": "HBoxView",
            "box_style": "",
            "children": [
              "IPY_MODEL_1386d5784888416482637f9b96adc4a7",
              "IPY_MODEL_21bd695ac78447f4a600362360fdde21",
              "IPY_MODEL_08ccea19439b4b5b94611651569c7c5b"
            ],
            "layout": "IPY_MODEL_e66b3b6ec3bf45f987223e2772b76e6c"
          }
        },
        "5a1e49c1ee2a43f6a99ae6511996e7ea": {
          "model_module": "@jupyter-widgets/controls",
          "model_module_version": "1.5.0",
          "model_name": "HTMLModel",
          "state": {
            "_dom_classes": [],
            "_model_module": "@jupyter-widgets/controls",
            "_model_module_version": "1.5.0",
            "_model_name": "HTMLModel",
            "_view_count": null,
            "_view_module": "@jupyter-widgets/controls",
            "_view_module_version": "1.5.0",
            "_view_name": "HTMLView",
            "description": "",
            "description_tooltip": null,
            "layout": "IPY_MODEL_d40118c492d249fc9f9893e2e891229b",
            "placeholder": "​",
            "style": "IPY_MODEL_ba469ea97caa477ca42ab00b8e75799b",
            "value": " 151/151 [00:50&lt;00:00,  1.47it/s, Completed]"
          }
        },
        "5af4330472394fd0a6f07f8f53038203": {
          "model_module": "@jupyter-widgets/controls",
          "model_module_version": "1.5.0",
          "model_name": "FloatProgressModel",
          "state": {
            "_dom_classes": [],
            "_model_module": "@jupyter-widgets/controls",
            "_model_module_version": "1.5.0",
            "_model_name": "FloatProgressModel",
            "_view_count": null,
            "_view_module": "@jupyter-widgets/controls",
            "_view_module_version": "1.5.0",
            "_view_name": "ProgressView",
            "bar_style": "success",
            "description": "",
            "description_tooltip": null,
            "layout": "IPY_MODEL_31b0761eeb5548f0be75f121c01f9904",
            "max": 1,
            "min": 0,
            "orientation": "horizontal",
            "style": "IPY_MODEL_758886c601e64191a1bc4688cae558b7",
            "value": 1
          }
        },
        "688755fb925a4be684850ad3a6a0176d": {
          "model_module": "@jupyter-widgets/controls",
          "model_module_version": "1.5.0",
          "model_name": "DescriptionStyleModel",
          "state": {
            "_model_module": "@jupyter-widgets/controls",
            "_model_module_version": "1.5.0",
            "_model_name": "DescriptionStyleModel",
            "_view_count": null,
            "_view_module": "@jupyter-widgets/base",
            "_view_module_version": "1.2.0",
            "_view_name": "StyleView",
            "description_width": ""
          }
        },
        "68eac246e8e4409c9a6ae90b96c64990": {
          "model_module": "@jupyter-widgets/controls",
          "model_module_version": "1.5.0",
          "model_name": "HTMLModel",
          "state": {
            "_dom_classes": [],
            "_model_module": "@jupyter-widgets/controls",
            "_model_module_version": "1.5.0",
            "_model_name": "HTMLModel",
            "_view_count": null,
            "_view_module": "@jupyter-widgets/controls",
            "_view_module_version": "1.5.0",
            "_view_name": "HTMLView",
            "description": "",
            "description_tooltip": null,
            "layout": "IPY_MODEL_bdb2ba93847c43d6a5f055bf4119ddad",
            "placeholder": "​",
            "style": "IPY_MODEL_c3f8abdee56d48db825a79155aac8960",
            "value": " 1/1 [00:00&lt;00:00, 33.98it/s]"
          }
        },
        "6c539ce32d324d1ebfe182f691580bef": {
          "model_module": "@jupyter-widgets/controls",
          "model_module_version": "1.5.0",
          "model_name": "HBoxModel",
          "state": {
            "_dom_classes": [],
            "_model_module": "@jupyter-widgets/controls",
            "_model_module_version": "1.5.0",
            "_model_name": "HBoxModel",
            "_view_count": null,
            "_view_module": "@jupyter-widgets/controls",
            "_view_module_version": "1.5.0",
            "_view_name": "HBoxView",
            "box_style": "",
            "children": [
              "IPY_MODEL_7bceface38a745188ae0c770795634e4",
              "IPY_MODEL_3daba5fba40741f4984ea922bedf383e",
              "IPY_MODEL_68eac246e8e4409c9a6ae90b96c64990"
            ],
            "layout": "IPY_MODEL_0a5c1dc555854589b1432a808c651209"
          }
        },
        "714153df6f67471dba319440a8c82763": {
          "model_module": "@jupyter-widgets/controls",
          "model_module_version": "1.5.0",
          "model_name": "HBoxModel",
          "state": {
            "_dom_classes": [],
            "_model_module": "@jupyter-widgets/controls",
            "_model_module_version": "1.5.0",
            "_model_name": "HBoxModel",
            "_view_count": null,
            "_view_module": "@jupyter-widgets/controls",
            "_view_module_version": "1.5.0",
            "_view_name": "HBoxView",
            "box_style": "",
            "children": [
              "IPY_MODEL_25c87eafb7354db592902d395734971b",
              "IPY_MODEL_49e7077c1c0f4a4a83ef04655b75b0c3",
              "IPY_MODEL_5a1e49c1ee2a43f6a99ae6511996e7ea"
            ],
            "layout": "IPY_MODEL_c2e04049c41742898e19aa4dcbc57f16"
          }
        },
        "758886c601e64191a1bc4688cae558b7": {
          "model_module": "@jupyter-widgets/controls",
          "model_module_version": "1.5.0",
          "model_name": "ProgressStyleModel",
          "state": {
            "_model_module": "@jupyter-widgets/controls",
            "_model_module_version": "1.5.0",
            "_model_name": "ProgressStyleModel",
            "_view_count": null,
            "_view_module": "@jupyter-widgets/base",
            "_view_module_version": "1.2.0",
            "_view_name": "StyleView",
            "bar_color": null,
            "description_width": ""
          }
        },
        "76f187e3a1dc4cb5b0e9b905e926968d": {
          "model_module": "@jupyter-widgets/base",
          "model_module_version": "1.2.0",
          "model_name": "LayoutModel",
          "state": {
            "_model_module": "@jupyter-widgets/base",
            "_model_module_version": "1.2.0",
            "_model_name": "LayoutModel",
            "_view_count": null,
            "_view_module": "@jupyter-widgets/base",
            "_view_module_version": "1.2.0",
            "_view_name": "LayoutView",
            "align_content": null,
            "align_items": null,
            "align_self": null,
            "border": null,
            "bottom": null,
            "display": null,
            "flex": null,
            "flex_flow": null,
            "grid_area": null,
            "grid_auto_columns": null,
            "grid_auto_flow": null,
            "grid_auto_rows": null,
            "grid_column": null,
            "grid_gap": null,
            "grid_row": null,
            "grid_template_areas": null,
            "grid_template_columns": null,
            "grid_template_rows": null,
            "height": null,
            "justify_content": null,
            "justify_items": null,
            "left": null,
            "margin": null,
            "max_height": null,
            "max_width": null,
            "min_height": null,
            "min_width": null,
            "object_fit": null,
            "object_position": null,
            "order": null,
            "overflow": null,
            "overflow_x": null,
            "overflow_y": null,
            "padding": null,
            "right": null,
            "top": null,
            "visibility": null,
            "width": null
          }
        },
        "7bceface38a745188ae0c770795634e4": {
          "model_module": "@jupyter-widgets/controls",
          "model_module_version": "1.5.0",
          "model_name": "HTMLModel",
          "state": {
            "_dom_classes": [],
            "_model_module": "@jupyter-widgets/controls",
            "_model_module_version": "1.5.0",
            "_model_name": "HTMLModel",
            "_view_count": null,
            "_view_module": "@jupyter-widgets/controls",
            "_view_module_version": "1.5.0",
            "_view_name": "HTMLView",
            "description": "",
            "description_tooltip": null,
            "layout": "IPY_MODEL_d6ae229cbd7f4711a2a294b5408633d0",
            "placeholder": "​",
            "style": "IPY_MODEL_688755fb925a4be684850ad3a6a0176d",
            "value": "Export report to file: 100%"
          }
        },
        "85aaa12b9d81447f8034d944171bea3c": {
          "model_module": "@jupyter-widgets/controls",
          "model_module_version": "1.5.0",
          "model_name": "ProgressStyleModel",
          "state": {
            "_model_module": "@jupyter-widgets/controls",
            "_model_module_version": "1.5.0",
            "_model_name": "ProgressStyleModel",
            "_view_count": null,
            "_view_module": "@jupyter-widgets/base",
            "_view_module_version": "1.2.0",
            "_view_name": "StyleView",
            "bar_color": null,
            "description_width": ""
          }
        },
        "879f13be65f049f9b47b0a92c56ad3de": {
          "model_module": "@jupyter-widgets/base",
          "model_module_version": "1.2.0",
          "model_name": "LayoutModel",
          "state": {
            "_model_module": "@jupyter-widgets/base",
            "_model_module_version": "1.2.0",
            "_model_name": "LayoutModel",
            "_view_count": null,
            "_view_module": "@jupyter-widgets/base",
            "_view_module_version": "1.2.0",
            "_view_name": "LayoutView",
            "align_content": null,
            "align_items": null,
            "align_self": null,
            "border": null,
            "bottom": null,
            "display": null,
            "flex": null,
            "flex_flow": null,
            "grid_area": null,
            "grid_auto_columns": null,
            "grid_auto_flow": null,
            "grid_auto_rows": null,
            "grid_column": null,
            "grid_gap": null,
            "grid_row": null,
            "grid_template_areas": null,
            "grid_template_columns": null,
            "grid_template_rows": null,
            "height": null,
            "justify_content": null,
            "justify_items": null,
            "left": null,
            "margin": null,
            "max_height": null,
            "max_width": null,
            "min_height": null,
            "min_width": null,
            "object_fit": null,
            "object_position": null,
            "order": null,
            "overflow": null,
            "overflow_x": null,
            "overflow_y": null,
            "padding": null,
            "right": null,
            "top": null,
            "visibility": null,
            "width": null
          }
        },
        "89af632685a44f8e8d10570c48838282": {
          "model_module": "@jupyter-widgets/controls",
          "model_module_version": "1.5.0",
          "model_name": "DescriptionStyleModel",
          "state": {
            "_model_module": "@jupyter-widgets/controls",
            "_model_module_version": "1.5.0",
            "_model_name": "DescriptionStyleModel",
            "_view_count": null,
            "_view_module": "@jupyter-widgets/base",
            "_view_module_version": "1.2.0",
            "_view_name": "StyleView",
            "description_width": ""
          }
        },
        "959cb7f748584f65ab7e2812d35509ce": {
          "model_module": "@jupyter-widgets/controls",
          "model_module_version": "1.5.0",
          "model_name": "DescriptionStyleModel",
          "state": {
            "_model_module": "@jupyter-widgets/controls",
            "_model_module_version": "1.5.0",
            "_model_name": "DescriptionStyleModel",
            "_view_count": null,
            "_view_module": "@jupyter-widgets/base",
            "_view_module_version": "1.2.0",
            "_view_name": "StyleView",
            "description_width": ""
          }
        },
        "a50ce01154d84fc1b979e484b1814047": {
          "model_module": "@jupyter-widgets/controls",
          "model_module_version": "1.5.0",
          "model_name": "DescriptionStyleModel",
          "state": {
            "_model_module": "@jupyter-widgets/controls",
            "_model_module_version": "1.5.0",
            "_model_name": "DescriptionStyleModel",
            "_view_count": null,
            "_view_module": "@jupyter-widgets/base",
            "_view_module_version": "1.2.0",
            "_view_name": "StyleView",
            "description_width": ""
          }
        },
        "ba469ea97caa477ca42ab00b8e75799b": {
          "model_module": "@jupyter-widgets/controls",
          "model_module_version": "1.5.0",
          "model_name": "DescriptionStyleModel",
          "state": {
            "_model_module": "@jupyter-widgets/controls",
            "_model_module_version": "1.5.0",
            "_model_name": "DescriptionStyleModel",
            "_view_count": null,
            "_view_module": "@jupyter-widgets/base",
            "_view_module_version": "1.2.0",
            "_view_name": "StyleView",
            "description_width": ""
          }
        },
        "bdb2ba93847c43d6a5f055bf4119ddad": {
          "model_module": "@jupyter-widgets/base",
          "model_module_version": "1.2.0",
          "model_name": "LayoutModel",
          "state": {
            "_model_module": "@jupyter-widgets/base",
            "_model_module_version": "1.2.0",
            "_model_name": "LayoutModel",
            "_view_count": null,
            "_view_module": "@jupyter-widgets/base",
            "_view_module_version": "1.2.0",
            "_view_name": "LayoutView",
            "align_content": null,
            "align_items": null,
            "align_self": null,
            "border": null,
            "bottom": null,
            "display": null,
            "flex": null,
            "flex_flow": null,
            "grid_area": null,
            "grid_auto_columns": null,
            "grid_auto_flow": null,
            "grid_auto_rows": null,
            "grid_column": null,
            "grid_gap": null,
            "grid_row": null,
            "grid_template_areas": null,
            "grid_template_columns": null,
            "grid_template_rows": null,
            "height": null,
            "justify_content": null,
            "justify_items": null,
            "left": null,
            "margin": null,
            "max_height": null,
            "max_width": null,
            "min_height": null,
            "min_width": null,
            "object_fit": null,
            "object_position": null,
            "order": null,
            "overflow": null,
            "overflow_x": null,
            "overflow_y": null,
            "padding": null,
            "right": null,
            "top": null,
            "visibility": null,
            "width": null
          }
        },
        "c2e04049c41742898e19aa4dcbc57f16": {
          "model_module": "@jupyter-widgets/base",
          "model_module_version": "1.2.0",
          "model_name": "LayoutModel",
          "state": {
            "_model_module": "@jupyter-widgets/base",
            "_model_module_version": "1.2.0",
            "_model_name": "LayoutModel",
            "_view_count": null,
            "_view_module": "@jupyter-widgets/base",
            "_view_module_version": "1.2.0",
            "_view_name": "LayoutView",
            "align_content": null,
            "align_items": null,
            "align_self": null,
            "border": null,
            "bottom": null,
            "display": null,
            "flex": null,
            "flex_flow": null,
            "grid_area": null,
            "grid_auto_columns": null,
            "grid_auto_flow": null,
            "grid_auto_rows": null,
            "grid_column": null,
            "grid_gap": null,
            "grid_row": null,
            "grid_template_areas": null,
            "grid_template_columns": null,
            "grid_template_rows": null,
            "height": null,
            "justify_content": null,
            "justify_items": null,
            "left": null,
            "margin": null,
            "max_height": null,
            "max_width": null,
            "min_height": null,
            "min_width": null,
            "object_fit": null,
            "object_position": null,
            "order": null,
            "overflow": null,
            "overflow_x": null,
            "overflow_y": null,
            "padding": null,
            "right": null,
            "top": null,
            "visibility": null,
            "width": null
          }
        },
        "c3f8abdee56d48db825a79155aac8960": {
          "model_module": "@jupyter-widgets/controls",
          "model_module_version": "1.5.0",
          "model_name": "DescriptionStyleModel",
          "state": {
            "_model_module": "@jupyter-widgets/controls",
            "_model_module_version": "1.5.0",
            "_model_name": "DescriptionStyleModel",
            "_view_count": null,
            "_view_module": "@jupyter-widgets/base",
            "_view_module_version": "1.2.0",
            "_view_name": "StyleView",
            "description_width": ""
          }
        },
        "cac1566d20e441ca82385a06cdf0ccb8": {
          "model_module": "@jupyter-widgets/base",
          "model_module_version": "1.2.0",
          "model_name": "LayoutModel",
          "state": {
            "_model_module": "@jupyter-widgets/base",
            "_model_module_version": "1.2.0",
            "_model_name": "LayoutModel",
            "_view_count": null,
            "_view_module": "@jupyter-widgets/base",
            "_view_module_version": "1.2.0",
            "_view_name": "LayoutView",
            "align_content": null,
            "align_items": null,
            "align_self": null,
            "border": null,
            "bottom": null,
            "display": null,
            "flex": null,
            "flex_flow": null,
            "grid_area": null,
            "grid_auto_columns": null,
            "grid_auto_flow": null,
            "grid_auto_rows": null,
            "grid_column": null,
            "grid_gap": null,
            "grid_row": null,
            "grid_template_areas": null,
            "grid_template_columns": null,
            "grid_template_rows": null,
            "height": null,
            "justify_content": null,
            "justify_items": null,
            "left": null,
            "margin": null,
            "max_height": null,
            "max_width": null,
            "min_height": null,
            "min_width": null,
            "object_fit": null,
            "object_position": null,
            "order": null,
            "overflow": null,
            "overflow_x": null,
            "overflow_y": null,
            "padding": null,
            "right": null,
            "top": null,
            "visibility": null,
            "width": null
          }
        },
        "cb18849b0544438198f28825b64395aa": {
          "model_module": "@jupyter-widgets/base",
          "model_module_version": "1.2.0",
          "model_name": "LayoutModel",
          "state": {
            "_model_module": "@jupyter-widgets/base",
            "_model_module_version": "1.2.0",
            "_model_name": "LayoutModel",
            "_view_count": null,
            "_view_module": "@jupyter-widgets/base",
            "_view_module_version": "1.2.0",
            "_view_name": "LayoutView",
            "align_content": null,
            "align_items": null,
            "align_self": null,
            "border": null,
            "bottom": null,
            "display": null,
            "flex": null,
            "flex_flow": null,
            "grid_area": null,
            "grid_auto_columns": null,
            "grid_auto_flow": null,
            "grid_auto_rows": null,
            "grid_column": null,
            "grid_gap": null,
            "grid_row": null,
            "grid_template_areas": null,
            "grid_template_columns": null,
            "grid_template_rows": null,
            "height": null,
            "justify_content": null,
            "justify_items": null,
            "left": null,
            "margin": null,
            "max_height": null,
            "max_width": null,
            "min_height": null,
            "min_width": null,
            "object_fit": null,
            "object_position": null,
            "order": null,
            "overflow": null,
            "overflow_x": null,
            "overflow_y": null,
            "padding": null,
            "right": null,
            "top": null,
            "visibility": null,
            "width": null
          }
        },
        "d40118c492d249fc9f9893e2e891229b": {
          "model_module": "@jupyter-widgets/base",
          "model_module_version": "1.2.0",
          "model_name": "LayoutModel",
          "state": {
            "_model_module": "@jupyter-widgets/base",
            "_model_module_version": "1.2.0",
            "_model_name": "LayoutModel",
            "_view_count": null,
            "_view_module": "@jupyter-widgets/base",
            "_view_module_version": "1.2.0",
            "_view_name": "LayoutView",
            "align_content": null,
            "align_items": null,
            "align_self": null,
            "border": null,
            "bottom": null,
            "display": null,
            "flex": null,
            "flex_flow": null,
            "grid_area": null,
            "grid_auto_columns": null,
            "grid_auto_flow": null,
            "grid_auto_rows": null,
            "grid_column": null,
            "grid_gap": null,
            "grid_row": null,
            "grid_template_areas": null,
            "grid_template_columns": null,
            "grid_template_rows": null,
            "height": null,
            "justify_content": null,
            "justify_items": null,
            "left": null,
            "margin": null,
            "max_height": null,
            "max_width": null,
            "min_height": null,
            "min_width": null,
            "object_fit": null,
            "object_position": null,
            "order": null,
            "overflow": null,
            "overflow_x": null,
            "overflow_y": null,
            "padding": null,
            "right": null,
            "top": null,
            "visibility": null,
            "width": null
          }
        },
        "d6ae229cbd7f4711a2a294b5408633d0": {
          "model_module": "@jupyter-widgets/base",
          "model_module_version": "1.2.0",
          "model_name": "LayoutModel",
          "state": {
            "_model_module": "@jupyter-widgets/base",
            "_model_module_version": "1.2.0",
            "_model_name": "LayoutModel",
            "_view_count": null,
            "_view_module": "@jupyter-widgets/base",
            "_view_module_version": "1.2.0",
            "_view_name": "LayoutView",
            "align_content": null,
            "align_items": null,
            "align_self": null,
            "border": null,
            "bottom": null,
            "display": null,
            "flex": null,
            "flex_flow": null,
            "grid_area": null,
            "grid_auto_columns": null,
            "grid_auto_flow": null,
            "grid_auto_rows": null,
            "grid_column": null,
            "grid_gap": null,
            "grid_row": null,
            "grid_template_areas": null,
            "grid_template_columns": null,
            "grid_template_rows": null,
            "height": null,
            "justify_content": null,
            "justify_items": null,
            "left": null,
            "margin": null,
            "max_height": null,
            "max_width": null,
            "min_height": null,
            "min_width": null,
            "object_fit": null,
            "object_position": null,
            "order": null,
            "overflow": null,
            "overflow_x": null,
            "overflow_y": null,
            "padding": null,
            "right": null,
            "top": null,
            "visibility": null,
            "width": null
          }
        },
        "e66b3b6ec3bf45f987223e2772b76e6c": {
          "model_module": "@jupyter-widgets/base",
          "model_module_version": "1.2.0",
          "model_name": "LayoutModel",
          "state": {
            "_model_module": "@jupyter-widgets/base",
            "_model_module_version": "1.2.0",
            "_model_name": "LayoutModel",
            "_view_count": null,
            "_view_module": "@jupyter-widgets/base",
            "_view_module_version": "1.2.0",
            "_view_name": "LayoutView",
            "align_content": null,
            "align_items": null,
            "align_self": null,
            "border": null,
            "bottom": null,
            "display": null,
            "flex": null,
            "flex_flow": null,
            "grid_area": null,
            "grid_auto_columns": null,
            "grid_auto_flow": null,
            "grid_auto_rows": null,
            "grid_column": null,
            "grid_gap": null,
            "grid_row": null,
            "grid_template_areas": null,
            "grid_template_columns": null,
            "grid_template_rows": null,
            "height": null,
            "justify_content": null,
            "justify_items": null,
            "left": null,
            "margin": null,
            "max_height": null,
            "max_width": null,
            "min_height": null,
            "min_width": null,
            "object_fit": null,
            "object_position": null,
            "order": null,
            "overflow": null,
            "overflow_x": null,
            "overflow_y": null,
            "padding": null,
            "right": null,
            "top": null,
            "visibility": null,
            "width": null
          }
        },
        "eb62a5d60bf144a7ab28a469a8536585": {
          "model_module": "@jupyter-widgets/base",
          "model_module_version": "1.2.0",
          "model_name": "LayoutModel",
          "state": {
            "_model_module": "@jupyter-widgets/base",
            "_model_module_version": "1.2.0",
            "_model_name": "LayoutModel",
            "_view_count": null,
            "_view_module": "@jupyter-widgets/base",
            "_view_module_version": "1.2.0",
            "_view_name": "LayoutView",
            "align_content": null,
            "align_items": null,
            "align_self": null,
            "border": null,
            "bottom": null,
            "display": null,
            "flex": null,
            "flex_flow": null,
            "grid_area": null,
            "grid_auto_columns": null,
            "grid_auto_flow": null,
            "grid_auto_rows": null,
            "grid_column": null,
            "grid_gap": null,
            "grid_row": null,
            "grid_template_areas": null,
            "grid_template_columns": null,
            "grid_template_rows": null,
            "height": null,
            "justify_content": null,
            "justify_items": null,
            "left": null,
            "margin": null,
            "max_height": null,
            "max_width": null,
            "min_height": null,
            "min_width": null,
            "object_fit": null,
            "object_position": null,
            "order": null,
            "overflow": null,
            "overflow_x": null,
            "overflow_y": null,
            "padding": null,
            "right": null,
            "top": null,
            "visibility": null,
            "width": null
          }
        },
        "f07347362944400a8d293976a1561552": {
          "model_module": "@jupyter-widgets/controls",
          "model_module_version": "1.5.0",
          "model_name": "DescriptionStyleModel",
          "state": {
            "_model_module": "@jupyter-widgets/controls",
            "_model_module_version": "1.5.0",
            "_model_name": "DescriptionStyleModel",
            "_view_count": null,
            "_view_module": "@jupyter-widgets/base",
            "_view_module_version": "1.2.0",
            "_view_name": "StyleView",
            "description_width": ""
          }
        },
        "f29ccc03123541e9850e374604f86b99": {
          "model_module": "@jupyter-widgets/controls",
          "model_module_version": "1.5.0",
          "model_name": "DescriptionStyleModel",
          "state": {
            "_model_module": "@jupyter-widgets/controls",
            "_model_module_version": "1.5.0",
            "_model_name": "DescriptionStyleModel",
            "_view_count": null,
            "_view_module": "@jupyter-widgets/base",
            "_view_module_version": "1.2.0",
            "_view_name": "StyleView",
            "description_width": ""
          }
        }
      }
    }
  },
  "nbformat": 4,
  "nbformat_minor": 0
}
